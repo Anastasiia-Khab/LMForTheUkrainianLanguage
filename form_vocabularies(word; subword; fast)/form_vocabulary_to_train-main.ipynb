{
 "cells": [
  {
   "cell_type": "markdown",
   "metadata": {},
   "source": [
    "## Form train and test data"
   ]
  },
  {
   "cell_type": "code",
   "execution_count": null,
   "metadata": {},
   "outputs": [],
   "source": [
    "import itertools\n",
    "import nltk\n",
    "from utilities import *\n",
    "import re\n",
    "import random\n",
    "import matplotlib as plt\n",
    "import matplotlib.pyplot as plt"
   ]
  },
  {
   "cell_type": "code",
   "execution_count": 2,
   "metadata": {},
   "outputs": [],
   "source": [
    "# File paths\n",
    "txt_file_path = \"../../final_all_GS_tagged_words_symbols_sentences.txt\"\n",
    "txt_file_path0 = \"../../final_all_GS_tagged_words_symbols_sentences_0.txt\"\n",
    "txt_file_path1 = \"../../korr_final_symbols_sentences.txt\"\n",
    "txt_file_path2 = \"../../ukrlib_final_symbols_sentences.txt\" \n",
    "txt_file_path10 = \"../../korr_final_symbols_sentences_01.txt\"\n",
    "txt_file_path20 = \"../../ukrlib_final_symbols_sentences_01.txt\"\n",
    "txt_file_path100 = \"../../korr_final_symbols_sentences_00.txt\"\n",
    "txt_file_path200 = \"../../ukrlib_final_symbols_sentences_00.txt\"\n",
    "\n",
    "\n",
    "data_path = \"data/korr_ukrlib_data.pkl\"\n",
    "test_path = \"data/brown_test_data.pkl\"\n",
    "x_pad_data_path = \"data/korr_ukrlib_x_pad_data.pkl\"\n",
    "y_pad_data_path = \"data/korr_ukrlib_y_pad_data.pkl\"\n",
    "\n",
    "# Sentence tokens\n",
    "unknown_token = \"_#unknown_\"\n",
    "sentence_start_token = \"_#start_\"\n",
    "sentence_end_token = \"_#end_\"\n",
    "padding_token = \"_#padding_\"\n",
    "\n",
    "#Number of words to hold in vocabulary\n",
    "vocabulary_size = 300000"
   ]
  },
  {
   "cell_type": "code",
   "execution_count": 3,
   "metadata": {},
   "outputs": [],
   "source": [
    "with open(txt_file_path2, \"rt\") as infile:\n",
    "    with open(txt_file_path20, \"w+\") as outfile:\n",
    "        for sent in infile:\n",
    "            if len(sent.split())>58:\n",
    "                sep=';'\n",
    "                separ='////'\n",
    "                for k in sent.replace(sep, sep+separ).split(separ):\n",
    "                    print(re.sub( r'^   |\\n|^\\t','',k), file=outfile)\n",
    "            else:\n",
    "                outfile.write(sent)\n",
    "                \n",
    "with open(txt_file_path1, \"rt\") as infile:\n",
    "    with open(txt_file_path10, \"w+\") as outfile:\n",
    "        for sent in infile:\n",
    "            if len(sent.split())>58:\n",
    "                sep=';'\n",
    "                separ='////'\n",
    "                for k in sent.replace(sep, sep+separ).split(separ):\n",
    "                    print(re.sub( r'^   |\\n|^\\t','',k), file=outfile)\n",
    "            else:\n",
    "                outfile.write(sent)\n",
    "with open(txt_file_path, \"rt\") as infile:\n",
    "    with open(txt_file_path0, \"w+\") as outfile:\n",
    "        for sent in infile:\n",
    "            if len(sent.split())>58:\n",
    "                sep=';'\n",
    "                separ='////'\n",
    "                for k in sent.replace(sep, sep+separ).split(separ):\n",
    "                    print(re.sub( r'^   |\\n|^\\t','',k), file=outfile)\n",
    "            else:\n",
    "                outfile.write(sent)"
   ]
  },
  {
   "cell_type": "code",
   "execution_count": 4,
   "metadata": {},
   "outputs": [],
   "source": [
    "with open(txt_file_path10, \"rt\") as infile:\n",
    "    tokenized_sentences = [(\"%s %s %s\" % (sentence_start_token, sentence, sentence_end_token)).split() for sentence in infile]"
   ]
  },
  {
   "cell_type": "code",
   "execution_count": 5,
   "metadata": {},
   "outputs": [],
   "source": [
    "with open(txt_file_path20, \"rt\") as infile:\n",
    "    tokenized_sentences += [(\"%s %s %s\" % (sentence_start_token, sentence, sentence_end_token)).split() for sentence in infile]"
   ]
  },
  {
   "cell_type": "code",
   "execution_count": 6,
   "metadata": {},
   "outputs": [],
   "source": [
    "with open(txt_file_path0, \"rt\") as infile:\n",
    "    tokenized_sentences_test = [(\"%s %s %s\" % (sentence_start_token, sentence, sentence_end_token)).split() for sentence in infile]"
   ]
  },
  {
   "cell_type": "code",
   "execution_count": 7,
   "metadata": {},
   "outputs": [],
   "source": [
    "numwordsSE=0\n",
    "numwords=0\n",
    "for sent in tokenized_sentences:\n",
    "    numwords+=len(sent)-2\n",
    "    numwordsSE+=len(sent)    "
   ]
  },
  {
   "cell_type": "markdown",
   "metadata": {},
   "source": [
    "#### Corpus"
   ]
  },
  {
   "cell_type": "code",
   "execution_count": 8,
   "metadata": {},
   "outputs": [
    {
     "name": "stdout",
     "output_type": "stream",
     "text": [
      "Number of sentences  14447614\n",
      "Number of all tokens (with _#start_ _#end_ in each sentence)  270208921\n",
      "Number of all tokens (without _#start_ _#end_ in each sentence)  241313693\n"
     ]
    }
   ],
   "source": [
    "print (\"Number of sentences \", len(tokenized_sentences))\n",
    "print(\"Number of all tokens (with _#start_ _#end_ in each sentence) \", numwordsSE) \n",
    "print(\"Number of all tokens (without _#start_ _#end_ in each sentence) \", numwords) "
   ]
  },
  {
   "cell_type": "code",
   "execution_count": 9,
   "metadata": {},
   "outputs": [],
   "source": [
    "lengths=[]\n",
    "for sentence in tokenized_sentences:\n",
    "    lengths.append(len(sentence))"
   ]
  },
  {
   "cell_type": "code",
   "execution_count": 10,
   "metadata": {},
   "outputs": [
    {
     "data": {
      "text/plain": [
       "(array([2.826231e+06, 6.102851e+06, 3.469397e+06, 1.356401e+06,\n",
       "        4.429190e+05, 1.495680e+05, 7.244400e+04, 1.579000e+04,\n",
       "        5.417000e+03, 2.564000e+03]),\n",
       " array([  0,  10,  20,  30,  40,  50,  60,  80, 100, 120, 140]),\n",
       " <a list of 10 Patch objects>)"
      ]
     },
     "execution_count": 10,
     "metadata": {},
     "output_type": "execute_result"
    },
    {
     "data": {
      "image/png": "[encoded data removed]",
      "text/plain": [
       "<Figure size 432x288 with 1 Axes>"
      ]
     },
     "metadata": {
      "needs_background": "light"
     },
     "output_type": "display_data"
    }
   ],
   "source": [
    "plt.hist(lengths, bins=[0,10,20,30,40,50,60,80,100,120,140])  # arguments are passed to np.histogram"
   ]
  },
  {
   "cell_type": "markdown",
   "metadata": {},
   "source": [
    "#### Delete sentences longer then 60 tokens"
   ]
  },
  {
   "cell_type": "code",
   "execution_count": 11,
   "metadata": {},
   "outputs": [],
   "source": [
    "tokenized_sentences_1 = [sentence for sentence in tokenized_sentences if (len(sentence) < 61 and len(sentence) > 3 ) ] \n",
    "tokenized_sentences=tokenized_sentences_1 "
   ]
  },
  {
   "cell_type": "markdown",
   "metadata": {},
   "source": [
    "#### Train corpus"
   ]
  },
  {
   "cell_type": "code",
   "execution_count": 12,
   "metadata": {},
   "outputs": [
    {
     "name": "stdout",
     "output_type": "stream",
     "text": [
      "Number of sentences  14335495\n",
      "Number of all tokens (with _#start_ _#end_ in each sentence)  262598163\n",
      "Number of all tokens (without _#start_ _#end_ in each sentence)  233927173\n"
     ]
    }
   ],
   "source": [
    "print (\"Number of sentences \", len(tokenized_sentences))\n",
    "print(\"Number of all tokens (with _#start_ _#end_ in each sentence) \", sum([len(sen) for sen in tokenized_sentences]) )\n",
    "print(\"Number of all tokens (without _#start_ _#end_ in each sentence) \",  sum([len(sen)-2 for sen in tokenized_sentences])) "
   ]
  },
  {
   "cell_type": "markdown",
   "metadata": {},
   "source": [
    "#### Test corpus"
   ]
  },
  {
   "cell_type": "code",
   "execution_count": 13,
   "metadata": {},
   "outputs": [
    {
     "name": "stdout",
     "output_type": "stream",
     "text": [
      "Number of sentences  40382\n",
      "Number of all tokens (with _#start_ _#end_ in each sentence)  812788\n",
      "Number of all tokens (without _#start_ _#end_ in each sentence)  732024\n"
     ]
    }
   ],
   "source": [
    "print (\"Number of sentences \", len(tokenized_sentences_test))\n",
    "print(\"Number of all tokens (with _#start_ _#end_ in each sentence) \", sum([len(sen) for sen in tokenized_sentences_test]) )\n",
    "print(\"Number of all tokens (without _#start_ _#end_ in each sentence) \",  sum([len(sen)-2 for sen in tokenized_sentences_test])) "
   ]
  },
  {
   "cell_type": "markdown",
   "metadata": {},
   "source": [
    "#### Example of the longest sentence"
   ]
  },
  {
   "cell_type": "code",
   "execution_count": 14,
   "metadata": {},
   "outputs": [
    {
     "name": "stdout",
     "output_type": "stream",
     "text": [
      "['_#start_', 'Лідер', '\"', 'нацболів', '\"', 'Едуард', 'Лімонов', 'виступає', 'за', 'втручання', 'Росії', 'у', 'конфлікт', 'на', 'Донбасі', 'Лідер', 'забороненої', 'в', 'Росії', 'Націонал-більшовицької', 'партії', ',', 'що', 'нині', 'зібрав', 'своїх', 'прихильників', 'під', 'брендом', '\"', 'Інша', 'Росія', '\"', ',', 'письменник', 'Едуард', 'Лимонов', 'від', 'початку', 'конфлікту', 'в', 'Україні', 'повністю', 'підтримав', 'сепаратистські', 'настрої', 'на', 'Донбасі', 'і', 'регулярно', 'виступав', 'за', 'всебічне', 'втручання', 'Росії', 'в', 'цей', 'конфлікт', '.', '_#end_']\n"
     ]
    }
   ],
   "source": [
    "print(max(tokenized_sentences, key=len))"
   ]
  },
  {
   "cell_type": "markdown",
   "metadata": {},
   "source": [
    "#### Count the word frequencies train"
   ]
  },
  {
   "cell_type": "code",
   "execution_count": 15,
   "metadata": {},
   "outputs": [],
   "source": [
    "word_frequency = nltk.FreqDist(itertools.chain(*tokenized_sentences)) "
   ]
  },
  {
   "cell_type": "code",
   "execution_count": 16,
   "metadata": {},
   "outputs": [
    {
     "name": "stdout",
     "output_type": "stream",
     "text": [
      "Found 2189477 unique word tokens.\n"
     ]
    }
   ],
   "source": [
    "# Get the most common words and build index to word and word to index vectors\n",
    "vocab = word_frequency.most_common(len(word_frequency.items()))\n",
    "print(\"Found %d unique word tokens.\" % len(word_frequency.items()))"
   ]
  },
  {
   "cell_type": "markdown",
   "metadata": {},
   "source": [
    "#### Count the word frequencies test"
   ]
  },
  {
   "cell_type": "code",
   "execution_count": 17,
   "metadata": {},
   "outputs": [],
   "source": [
    "word_frequency_test = nltk.FreqDist(itertools.chain(*tokenized_sentences_test)) "
   ]
  },
  {
   "cell_type": "code",
   "execution_count": 18,
   "metadata": {},
   "outputs": [
    {
     "name": "stdout",
     "output_type": "stream",
     "text": [
      "Found 103337 unique word tokens.\n"
     ]
    }
   ],
   "source": [
    "# Get the most common words and build index to word and word to index vectors\n",
    "vocab_test = word_frequency_test.most_common(len(word_frequency_test.items()))\n",
    "print(\"Found %d unique word tokens.\" % len(word_frequency_test.items()))"
   ]
  },
  {
   "cell_type": "markdown",
   "metadata": {},
   "source": [
    "#### Number of tokens in vocabulary that occured more then N times"
   ]
  },
  {
   "cell_type": "code",
   "execution_count": 19,
   "metadata": {},
   "outputs": [
    {
     "name": "stdout",
     "output_type": "stream",
     "text": [
      "5 times -  550437\n",
      "11 times -  368345\n",
      "14 times -  323726\n"
     ]
    }
   ],
   "source": [
    "print(\"5 times - \", len([i for i in vocab if i[1] > 5]))\n",
    "print(\"11 times - \", len([i for i in vocab if i[1] > 11]))\n",
    "print(\"14 times - \", len([i for i in vocab if i[1] > 14]))"
   ]
  },
  {
   "cell_type": "markdown",
   "metadata": {},
   "source": [
    "#### OOV for the whole train vocabulary (sentences<60)"
   ]
  },
  {
   "cell_type": "code",
   "execution_count": 20,
   "metadata": {},
   "outputs": [
    {
     "data": {
      "text/plain": [
       "7535"
      ]
     },
     "execution_count": 20,
     "metadata": {},
     "output_type": "execute_result"
    }
   ],
   "source": [
    "len(set([tuple_word[0] for tuple_word in vocab_test])-set([tup[0] for tup in vocab]))"
   ]
  },
  {
   "cell_type": "markdown",
   "metadata": {},
   "source": [
    "#### OOV for the train vocabulary of 300 000 most frequent word"
   ]
  },
  {
   "cell_type": "code",
   "execution_count": 21,
   "metadata": {},
   "outputs": [
    {
     "data": {
      "text/plain": [
       "24931"
      ]
     },
     "execution_count": 21,
     "metadata": {},
     "output_type": "execute_result"
    }
   ],
   "source": [
    "len(set([tuple_word[0] for tuple_word in vocab_test])-set([tup[0] for tup in vocab[:300000]]))"
   ]
  },
  {
   "cell_type": "markdown",
   "metadata": {},
   "source": [
    "#### OOV for the train vocabulary of words that occured 15 and more times"
   ]
  },
  {
   "cell_type": "code",
   "execution_count": 22,
   "metadata": {},
   "outputs": [
    {
     "data": {
      "text/plain": [
       "23630"
      ]
     },
     "execution_count": 22,
     "metadata": {},
     "output_type": "execute_result"
    }
   ],
   "source": [
    "len(set([tuple_word[0] for tuple_word in vocab_test])-set([tup[0] for tup in vocab[:323623]]))"
   ]
  },
  {
   "cell_type": "markdown",
   "metadata": {},
   "source": [
    "#### Delete sentences longer then 60 tokens in test set"
   ]
  },
  {
   "cell_type": "code",
   "execution_count": 23,
   "metadata": {},
   "outputs": [],
   "source": [
    "tokenized_sentences_test_1 = [sentence for sentence in tokenized_sentences_test if (len(sentence) < 61 and len(sentence) > 3 )] \n",
    "tokenized_sentences_test=tokenized_sentences_test_1 "
   ]
  },
  {
   "cell_type": "code",
   "execution_count": 24,
   "metadata": {},
   "outputs": [
    {
     "name": "stdout",
     "output_type": "stream",
     "text": [
      "Number of sentences  39900\n",
      "Number of all tokens (with _#start_ _#end_ in each sentence)  779001\n",
      "Number of all tokens (without _#start_ _#end_ in each sentence)  699201\n"
     ]
    }
   ],
   "source": [
    "print (\"Number of sentences \", len(tokenized_sentences_test))\n",
    "print(\"Number of all tokens (with _#start_ _#end_ in each sentence) \", sum([len(sen) for sen in tokenized_sentences_test]) )\n",
    "print(\"Number of all tokens (without _#start_ _#end_ in each sentence) \",  sum([len(sen)-2 for sen in tokenized_sentences_test])) "
   ]
  },
  {
   "cell_type": "code",
   "execution_count": 25,
   "metadata": {},
   "outputs": [
    {
     "name": "stdout",
     "output_type": "stream",
     "text": [
      "Found 100420 unique word tokens.\n"
     ]
    }
   ],
   "source": [
    "word_frequency_test = nltk.FreqDist(itertools.chain(*tokenized_sentences_test)) \n",
    "# Get the most common words and build index to word and word to index vectors\n",
    "vocab_test = word_frequency_test.most_common(len(word_frequency_test.items()))\n",
    "print(\"Found %d unique word tokens.\" % len(word_frequency_test.items()))"
   ]
  },
  {
   "cell_type": "markdown",
   "metadata": {},
   "source": [
    "#### OOV for the whole train vocabulary (sentences<60)"
   ]
  },
  {
   "cell_type": "code",
   "execution_count": 26,
   "metadata": {},
   "outputs": [
    {
     "data": {
      "text/plain": [
       "7161"
      ]
     },
     "execution_count": 26,
     "metadata": {},
     "output_type": "execute_result"
    }
   ],
   "source": [
    "len(set([tuple_word[0] for tuple_word in vocab_test])-set([tup[0] for tup in vocab]))"
   ]
  },
  {
   "cell_type": "markdown",
   "metadata": {},
   "source": [
    "#### OOV for the train vocabulary of 300 000 most frequent word"
   ]
  },
  {
   "cell_type": "code",
   "execution_count": 27,
   "metadata": {},
   "outputs": [
    {
     "data": {
      "text/plain": [
       "23826"
      ]
     },
     "execution_count": 27,
     "metadata": {},
     "output_type": "execute_result"
    }
   ],
   "source": [
    "len(set([tuple_word[0] for tuple_word in vocab_test])-set([tup[0] for tup in vocab[:299999]]))"
   ]
  },
  {
   "cell_type": "markdown",
   "metadata": {},
   "source": [
    "#### OOV for the train vocabulary of words that occured 15 and more times"
   ]
  },
  {
   "cell_type": "code",
   "execution_count": 28,
   "metadata": {},
   "outputs": [
    {
     "data": {
      "text/plain": [
       "22571"
      ]
     },
     "execution_count": 28,
     "metadata": {},
     "output_type": "execute_result"
    }
   ],
   "source": [
    "len(set([tuple_word[0] for tuple_word in vocab_test])-set([tup[0] for tup in vocab[:323623]]))"
   ]
  },
  {
   "cell_type": "code",
   "execution_count": 29,
   "metadata": {},
   "outputs": [],
   "source": [
    "oov=set([tuple_word[0] for tuple_word in vocab_test])-set([tup[0] for tup in vocab[:299999]])"
   ]
  },
  {
   "cell_type": "markdown",
   "metadata": {},
   "source": [
    "#### Train vocabulary 300000"
   ]
  },
  {
   "cell_type": "code",
   "execution_count": 30,
   "metadata": {},
   "outputs": [
    {
     "data": {
      "text/plain": [
       "299999"
      ]
     },
     "execution_count": 30,
     "metadata": {},
     "output_type": "execute_result"
    }
   ],
   "source": [
    "vocabulary = vocab[:299999]\n",
    "len(vocabulary)"
   ]
  },
  {
   "cell_type": "code",
   "execution_count": 31,
   "metadata": {},
   "outputs": [
    {
     "data": {
      "text/plain": [
       "(',', 18621664)"
      ]
     },
     "execution_count": 31,
     "metadata": {},
     "output_type": "execute_result"
    }
   ],
   "source": [
    "vocab[0]"
   ]
  },
  {
   "cell_type": "code",
   "execution_count": 32,
   "metadata": {},
   "outputs": [],
   "source": [
    "# Generate word to index and index to words (Add the word not the frequency from our vocabulary data)\n",
    "index_to_word = [x[0] for x in vocabulary]\n",
    "index_to_word.insert(0, unknown_token)\n",
    "#index_to_word.insert(0, padding_token)"
   ]
  },
  {
   "cell_type": "code",
   "execution_count": 33,
   "metadata": {},
   "outputs": [
    {
     "data": {
      "text/plain": [
       "'_#unknown_'"
      ]
     },
     "execution_count": 33,
     "metadata": {},
     "output_type": "execute_result"
    }
   ],
   "source": [
    "index_to_word[0]\n",
    "#index_to_word[1]"
   ]
  },
  {
   "cell_type": "code",
   "execution_count": 34,
   "metadata": {},
   "outputs": [],
   "source": [
    "# Dictionary of {word : index} pairs\n",
    "word_to_index = dict([(word, i) for i, word in enumerate(index_to_word)])"
   ]
  },
  {
   "cell_type": "markdown",
   "metadata": {},
   "source": [
    "#### Replace all words not in our vocabulary with the #unknown token"
   ]
  },
  {
   "cell_type": "code",
   "execution_count": 35,
   "metadata": {},
   "outputs": [],
   "source": [
    "unknown=0\n",
    "# Replace all words not in our vocabulary with the unknown token\n",
    "for i, sentence in enumerate(tokenized_sentences):\n",
    "    for j, word in enumerate(sentence):\n",
    "        if word not in word_to_index:\n",
    "            tokenized_sentences[i][j] = unknown_token\n",
    "            unknown+=1"
   ]
  },
  {
   "cell_type": "code",
   "execution_count": 36,
   "metadata": {},
   "outputs": [
    {
     "data": {
      "text/plain": [
       "5145722"
      ]
     },
     "execution_count": 36,
     "metadata": {},
     "output_type": "execute_result"
    }
   ],
   "source": [
    "unknown"
   ]
  },
  {
   "cell_type": "code",
   "execution_count": 37,
   "metadata": {},
   "outputs": [],
   "source": [
    "unknown_test=0\n",
    "# RepB8bvjbx3mUQXnxB8bvjbx3mUQXnxlace all words not in our vocabulary with the unknown token\n",
    "for i, sentence in enumerate(tokenized_sentences_test):\n",
    "    for j, word in enumerate(sentence):\n",
    "        if word not in word_to_index:\n",
    "            tokenized_sentences_test[i][j] = unknown_token\n",
    "            unknown_test+=1"
   ]
  },
  {
   "cell_type": "code",
   "execution_count": 38,
   "metadata": {},
   "outputs": [],
   "source": [
    "vocabulary.append((unknown_token, unknown))\n",
    "#vocabulary.append((padding_token, 0))"
   ]
  },
  {
   "cell_type": "code",
   "execution_count": 39,
   "metadata": {},
   "outputs": [
    {
     "name": "stdout",
     "output_type": "stream",
     "text": [
      "The least frequent word in our vocabulary is 'наяві' and appeared 17 times.\n",
      "Example sentence after Pre-processing: '['_#start_', 'Як', 'вказують', 'експерти', ',', 'нині', 'основна', 'проблема', 'української', 'армії', '—', 'низький', 'рівень', 'грошового', 'забезпечення', 'та', 'відсутність', 'гарантій', 'соціальної', 'захищеності', '.', '_#end_']'\n"
     ]
    }
   ],
   "source": [
    "#print(\"Using vocabulary size %d.\" % vocabulary_size)\n",
    "print(\"The least frequent word in our vocabulary is '%s' and appeared %d times.\" % (\n",
    "    vocabulary[-2][0], vocabulary[-2][1]))\n",
    "print(\"Example sentence after Pre-processing: '%s'\" % tokenized_sentences[101258])"
   ]
  },
  {
   "cell_type": "markdown",
   "metadata": {},
   "source": [
    "#### Form train data file"
   ]
  },
  {
   "cell_type": "code",
   "execution_count": 40,
   "metadata": {},
   "outputs": [],
   "source": [
    "x_train = []\n",
    "for sentence in tokenized_sentences:\n",
    "    x = []\n",
    "    for word in sentence:\n",
    "        x.append(word_to_index[word])\n",
    "    x_train.append(x)"
   ]
  },
  {
   "cell_type": "code",
   "execution_count": 41,
   "metadata": {},
   "outputs": [
    {
     "data": {
      "text/plain": [
       "14335495"
      ]
     },
     "execution_count": 41,
     "metadata": {},
     "output_type": "execute_result"
    }
   ],
   "source": [
    "random.shuffle(x_train)\n",
    "len(x_train)"
   ]
  },
  {
   "cell_type": "code",
   "execution_count": 42,
   "metadata": {},
   "outputs": [],
   "source": [
    "# Save data to file\n",
    "data = dict(\n",
    "    x_train=x_train,\n",
    "    #y_train=y_train,\n",
    "    word_to_index=word_to_index,\n",
    "    index_to_word=index_to_word,\n",
    "    vocabulary=vocabulary,\n",
    "    num_sentences=len(x_train),\n",
    "    max_input_len=len(max(x_train,key=len)))"
   ]
  },
  {
   "cell_type": "code",
   "execution_count": 43,
   "metadata": {},
   "outputs": [
    {
     "name": "stdout",
     "output_type": "stream",
     "text": [
      "Saving training data\n",
      "Saved file training data to data/korr_ukrlib_data.pkl.\n"
     ]
    }
   ],
   "source": [
    "print(\"Saving training data\")\n",
    "try:\n",
    "    save_training_data(data_path, data)\n",
    "except FileNotFoundError as err:\n",
    "    print(\"Error saving data \" + str(err))"
   ]
  },
  {
   "cell_type": "markdown",
   "metadata": {},
   "source": [
    "#### Form test data file"
   ]
  },
  {
   "cell_type": "code",
   "execution_count": 44,
   "metadata": {},
   "outputs": [],
   "source": [
    "x_test = []\n",
    "for sentence in tokenized_sentences_test:\n",
    "    x = []\n",
    "    for word in sentence:\n",
    "        x.append(word_to_index[word])\n",
    "    x_test.append(x)"
   ]
  },
  {
   "cell_type": "code",
   "execution_count": 45,
   "metadata": {},
   "outputs": [],
   "source": [
    "random.shuffle(x_test)\n",
    "test_data = dict(\n",
    "    x_test=x_test,\n",
    "    oov=oov)"
   ]
  },
  {
   "cell_type": "code",
   "execution_count": 46,
   "metadata": {},
   "outputs": [
    {
     "name": "stdout",
     "output_type": "stream",
     "text": [
      "Saving test data\n",
      "Saved file training data to data/brown_test_data.pkl.\n"
     ]
    }
   ],
   "source": [
    "print(\"Saving test data\")\n",
    "try:\n",
    "    save_training_data(test_path, test_data)\n",
    "except FileNotFoundError as err:\n",
    "    print(\"Error saving data \" + str(err))"
   ]
  },
  {
   "cell_type": "markdown",
   "metadata": {},
   "source": [
    "#### Chunks"
   ]
  },
  {
   "cell_type": "code",
   "execution_count": 47,
   "metadata": {},
   "outputs": [
    {
     "data": {
      "text/plain": [
       "'\\ndef chunks(l, n):\\n    # For item i in a range that is a length of l,\\n    for i in range(0, len(l), n):\\n        # Create an index range for l of n items:\\n        yield l[i:i+n]\\n\\nx_train_new=[]\\ny_train_new=[]\\nfor somelist in x_train:\\n    if len(somelist)>100:\\n        somelist=list(chunks(somelist,100))\\n        for nested in somelist:\\n            x_train_new.append(nested)\\n    else:\\n        x_train_new.append(somelist)\\nfor somelist in y_train:\\n    if len(somelist)>100:\\n        somelist=list(chunks(somelist,100))\\n        for nested in somelist:\\n            y_train_new.append(nested)\\n    else:\\n        y_train_new.append(somelist) '"
      ]
     },
     "execution_count": 47,
     "metadata": {},
     "output_type": "execute_result"
    }
   ],
   "source": [
    "\"\"\"\n",
    "def chunks(l, n):\n",
    "    # For item i in a range that is a length of l,\n",
    "    for i in range(0, len(l), n):\n",
    "        # Create an index range for l of n items:\n",
    "        yield l[i:i+n]\n",
    "\n",
    "x_train_new=[]\n",
    "y_train_new=[]\n",
    "for somelist in x_train:\n",
    "    if len(somelist)>100:\n",
    "        somelist=list(chunks(somelist,100))\n",
    "        for nested in somelist:\n",
    "            x_train_new.append(nested)\n",
    "    else:\n",
    "        x_train_new.append(somelist)\n",
    "for somelist in y_train:\n",
    "    if len(somelist)>100:\n",
    "        somelist=list(chunks(somelist,100))\n",
    "        for nested in somelist:\n",
    "            y_train_new.append(nested)\n",
    "    else:\n",
    "        y_train_new.append(somelist) \"\"\"      "
   ]
  },
  {
   "cell_type": "code",
   "execution_count": null,
   "metadata": {},
   "outputs": [],
   "source": []
  },
  {
   "cell_type": "code",
   "execution_count": null,
   "metadata": {},
   "outputs": [],
   "source": []
  }
 ],
 "metadata": {
  "kernelspec": {
   "display_name": "Python 3",
   "language": "python",
   "name": "python3"
  },
  "language_info": {
   "codemirror_mode": {
    "name": "ipython",
    "version": 3
   },
   "file_extension": ".py",
   "mimetype": "text/x-python",
   "name": "python",
   "nbconvert_exporter": "python",
   "pygments_lexer": "ipython3",
   "version": "3.6.9"
  }
 },
 "nbformat": 4,
 "nbformat_minor": 2
}
