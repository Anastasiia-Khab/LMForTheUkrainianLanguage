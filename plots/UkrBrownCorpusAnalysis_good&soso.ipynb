{
 "cells": [
  {
   "cell_type": "markdown",
   "metadata": {},
   "source": [
    "# Ukrainian Brown Corpus Analysis\n",
    "\n",
    "## (folders good/soso)"
   ]
  },
  {
   "cell_type": "code",
   "execution_count": 1,
   "metadata": {},
   "outputs": [
    {
     "data": {
      "text/html": [
       "        <script type=\"text/javascript\">\n",
       "        window.PlotlyConfig = {MathJaxConfig: 'local'};\n",
       "        if (window.MathJax) {MathJax.Hub.Config({SVG: {font: \"STIX-Web\"}});}\n",
       "        if (typeof require !== 'undefined') {\n",
       "        require.undef(\"plotly\");\n",
       "        requirejs.config({\n",
       "            paths: {\n",
       "                'plotly': ['https://cdn.plot.ly/plotly-latest.min']\n",
       "            }\n",
       "        });\n",
       "        require(['plotly'], function(Plotly) {\n",
       "            window._Plotly = Plotly;\n",
       "        });\n",
       "        }\n",
       "        </script>\n",
       "        "
      ]
     },
     "metadata": {},
     "output_type": "display_data"
    }
   ],
   "source": [
    "import xml.etree.cElementTree as et\n",
    "import pandas as pd \n",
    "import numpy as np \n",
    "import os, collections\n",
    "import glob\n",
    "import re\n",
    "from IPython.display import display, HTML\n",
    "from plotly.offline import init_notebook_mode, plot, iplot\n",
    "import matplotlib.pyplot as plt\n",
    "\n",
    "import plotly.graph_objs as go\n",
    "from plotly.offline import init_notebook_mode, plot, iplot\n",
    "init_notebook_mode(connected=True)"
   ]
  },
  {
   "cell_type": "code",
   "execution_count": 2,
   "metadata": {},
   "outputs": [
    {
     "data": {
      "text/html": [
       "        <script type=\"text/javascript\">\n",
       "        window.PlotlyConfig = {MathJaxConfig: 'local'};\n",
       "        if (window.MathJax) {MathJax.Hub.Config({SVG: {font: \"STIX-Web\"}});}\n",
       "        if (typeof require !== 'undefined') {\n",
       "        require.undef(\"plotly\");\n",
       "        requirejs.config({\n",
       "            paths: {\n",
       "                'plotly': ['https://cdn.plot.ly/plotly-latest.min']\n",
       "            }\n",
       "        });\n",
       "        require(['plotly'], function(Plotly) {\n",
       "            window._Plotly = Plotly;\n",
       "        });\n",
       "        }\n",
       "        </script>\n",
       "        "
      ]
     },
     "metadata": {},
     "output_type": "display_data"
    }
   ],
   "source": [
    "import cufflinks as cf\n",
    "cf.go_offline()\n",
    "cf.set_config_file(offline=False, world_readable=True)\n",
    "\n",
    "pd.set_option('display.max_colwidth', -1)"
   ]
  },
  {
   "cell_type": "code",
   "execution_count": 3,
   "metadata": {},
   "outputs": [],
   "source": [
    "CATS = \"ABCDEFGHI\"\n",
    "FRACTIONS = {\"A\": 25, \"B\": 3, \"C\": 7, \"D\": 7, \"E\": 3, \"F\": 5, \"G\": 10, \"H\": 15, \"I\": 25}\n",
    "DESCRIPTIONS = {\"A\": \"Преса\", \"B\": \"Релігійна література\", \"C\": \"Професійно-популярна література\", \n",
    "                \"D\": \"«Естетичні інформативні» тексти\", \"E\": \"Адміністративні документи\", \n",
    "                \"F\": \"Науково-популярна література\", \"G\": \"Наукова література\", \n",
    "                \"H\": \"Навчальна література\", \"I\": \"Художні тексти\"}\n",
    "PATH_IN_G = \"brown-uk/corpus/data/good/*.txt\"\n",
    "PATH_IN_S = \"brown-uk/corpus/data/so-so/*.txt\"\n",
    "PATH_OUT = \"aux/\"\n",
    "CATEGORIES_data = [[\"A\", \"Преса\",\"25%\",\"Репортажі, огляди, редакційні статті, листи до редакції; національні й регіональні видання; тематично - політика, спорт, суспільство, економіка й фінанси, короткі новини, культура - театр, література, музика, танці\"],\n",
    "              [\"B\", \"Релігійна література\", \"3%\", \"Книжки, періодика, брошури\"],\n",
    "              [\"C\", \"Професійно-популярна література\",\"7%\",\"Книжки й періодика; домоводство, ремесла, «сад і город», хобі, ремонт і будівництво, конструювання, музика й танці, домашні тварини, спорт, їжа й вино, подорожі, фермерство, робочі професії тощо\"],\n",
    "              [\"D\", \"«Естетичні інформативні» тексти\",\"7%\",\"Інформативні тексти, що не потрапляють в інші категорії, зокрема, біографії, мемуари, есеї, передмови, особисті листи, художня й мистецтвознавча критика, рекламні тексти\"],\n",
    "              [\"E\", \"Адміністративні документи\",\"3%\",\"Закони, урядові акти, звіти організацій/фондів/компаній, офіційні листи\"],\n",
    "              [\"F\", \"Науково-популярна література\",\"5%\"],\n",
    "              [\"G\", \"Наукова література\",\"10%\",\"Книжки й періодика; природничі й гуманітарні науки, техніка й інженерна справа\"],\n",
    "              [\"H\", \"Навчальна література\",\"15%\",\"Підручники, посібники, гуманітарні та природничі науки тощо\"],\n",
    "              [\"I\", \"Художні тексти\",\"25%\",\"Романи, повісті, оповідання, новели, за тематикою – загальна, детективи, фантастика, пригодницька, любовна, гумористична тощо\"]]\n",
    "CATEGORIES = pd.DataFrame(CATEGORIES_data, columns = ['id', 'Category','Fraction', 'Description'])"
   ]
  },
  {
   "cell_type": "code",
   "execution_count": 4,
   "metadata": {},
   "outputs": [],
   "source": [
    "#brown-uk/corpus/data/good/D_Molchanovskyi_Peredmova_do_ukrainskoho_vydannia_2016(4).txt\n",
    "#print(df.loc[df['length'] == 2195]['filename'])"
   ]
  },
  {
   "cell_type": "code",
   "execution_count": 5,
   "metadata": {},
   "outputs": [],
   "source": [
    "#for f in glob.iglob(PATH_IN ): # generator, search immediate subdirectories \n",
    "#    print (f)"
   ]
  },
  {
   "cell_type": "code",
   "execution_count": 6,
   "metadata": {},
   "outputs": [],
   "source": [
    "def read_xml(xmlFileName):\n",
    "    with open(xmlFileName, 'r') as xml_file:\n",
    "        xml = xml_file.read()\n",
    "        tree = et.fromstring(r\"<?xml version='1.0' encoding='utf-8'?><root>\"+re.sub(r\"<foreign>.*?</foreign>\", r'_FOREIGN_', \n",
    "                                                xml.replace('<i>','').\n",
    "                                                replace('</i>','').\n",
    "                                                replace('<b>','').\n",
    "                                                replace('</b>','').\n",
    "                                                replace('<url>','').\n",
    "                                                replace('</url>','').\n",
    "                                                replace('<emphasis>','').\n",
    "                                                replace('</emphasis>','').\n",
    "                                                replace('<quote>','_QUOTE_ ').\n",
    "                                                replace('</quote>',' _QUOTE_').\n",
    "                                                replace('<picture>','_PICTURE_ ').\n",
    "                                                replace('<chart>','_CHART_ ').\n",
    "                                                replace('<formula>','_FORMULA_ ').\n",
    "                                                replace('<table>','_TABLE_ ').\n",
    "                                                replace('<...>','').\n",
    "                                                replace('&','&#38;'))+\"</root>\")\n",
    "        temp_dict = {}   \n",
    "        \n",
    "        temp_dict[\"filename\"]=xmlFileName\n",
    "\n",
    "        # iterate through all the fields\n",
    "        for var in tree:\n",
    "            temp_dict[var.tag] = var.text\n",
    "            #print(var.attrib)\n",
    "\n",
    "        # generate the dict\n",
    "        return temp_dict"
   ]
  },
  {
   "cell_type": "code",
   "execution_count": 7,
   "metadata": {
    "scrolled": false
   },
   "outputs": [],
   "source": [
    "df = pd.DataFrame()\n",
    "i=0\n",
    "for name in glob.iglob(PATH_IN_G):\n",
    "    #i+=1\n",
    "    #print(i)\n",
    "    #print(name)\n",
    "    if name[26] in CATS and name[27] == \"_\":\n",
    "        df=df.append(read_xml(name),ignore_index=True )\n",
    "for name in glob.iglob(PATH_IN_S):\n",
    "    #i+=1\n",
    "    #print(i)\n",
    "    #print(name)\n",
    "    if name[27] in CATS and name[28] == \"_\":\n",
    "        df=df.append(read_xml(name),ignore_index=True )\n",
    "df=df.replace('NaN','')\n",
    "df=df.replace('None','')\n",
    "df['length']=df['length'].astype(int)\n",
    "df['year']=df['year'].apply(lambda x: int(x) if x is not None else None)"
   ]
  },
  {
   "cell_type": "code",
   "execution_count": 8,
   "metadata": {},
   "outputs": [
    {
     "data": {
      "text/plain": [
       "Index(['alt_orth', 'author_name_1', 'author_name_2', 'author_name_3',\n",
       "       'author_surname_1', 'author_surname_2', 'author_surname_3', 'body',\n",
       "       'comments', 'errors', 'filename', 'id', 'length', 'pages', 'publ_in',\n",
       "       'publ_part', 'publ_place', 'publisher', 'title', 'year', 'author_name',\n",
       "       'author_surname', 'author_name_4', 'author_name_5', 'author_name_6',\n",
       "       'author_name_7', 'author_surname_4', 'author_surname_5',\n",
       "       'author_surname_6', 'author_surname_7'],\n",
       "      dtype='object')"
      ]
     },
     "execution_count": 8,
     "metadata": {},
     "output_type": "execute_result"
    }
   ],
   "source": [
    "df.columns"
   ]
  },
  {
   "cell_type": "code",
   "execution_count": 9,
   "metadata": {},
   "outputs": [
    {
     "data": {
      "text/html": [
       "<p style='font-weight: bold; color:black; font-size:140%; font-family:verdana;text-align:center;'> Years of text publication</p>"
      ],
      "text/plain": [
       "<IPython.core.display.HTML object>"
      ]
     },
     "metadata": {},
     "output_type": "display_data"
    },
    {
     "data": {
      "text/html": [
       "<p style='font-weight: bold; color:black; font-size:110%; font-family:verdana;text-align:center;'> 2010 - 2018</p>"
      ],
      "text/plain": [
       "<IPython.core.display.HTML object>"
      ]
     },
     "metadata": {},
     "output_type": "display_data"
    }
   ],
   "source": [
    "display(HTML(\"<p style='font-weight: bold; color:black; font-size:140%; font-family:verdana;text-align:center;'> \"+\n",
    "             \"Years of text publication</p>\"))\n",
    "display(HTML(\"<p style='font-weight: bold; color:black; font-size:110%; font-family:verdana;text-align:center;'> \"+\n",
    "             str(int(df['year'].min()))+\" - \"+ str(int(df['year'].max()))+\"</p>\"))"
   ]
  },
  {
   "cell_type": "code",
   "execution_count": 30,
   "metadata": {},
   "outputs": [
    {
     "data": {
      "text/html": [
       "<p style='font-weight: bold; color:black; font-size:150%; font-family:verdana;text-align:center;'> Length of text (Number of words)</p>"
      ],
      "text/plain": [
       "<IPython.core.display.HTML object>"
      ]
     },
     "metadata": {},
     "output_type": "display_data"
    },
    {
     "data": {
      "text/html": [
       "<p style='font-weight: bold; color:black; font-size:110%; font-family:verdana;text-align:center;'> 80 - 2195 words </p>"
      ],
      "text/plain": [
       "<IPython.core.display.HTML object>"
      ]
     },
     "metadata": {},
     "output_type": "display_data"
    }
   ],
   "source": [
    "display(HTML(\"<p style='font-weight: bold; color:black; font-size:150%; font-family:verdana;text-align:center;'> \"+\n",
    "             \"Length of text (Number of words)</p>\"))\n",
    "display(HTML(\"<p style='font-weight: bold; color:black; font-size:110%; font-family:verdana;text-align:center;'> \"+\n",
    "             str(int(df['length'].min()))+\" - \"+ str(int(df['length'].max()))+\" words </p>\"))"
   ]
  },
  {
   "cell_type": "code",
   "execution_count": 11,
   "metadata": {},
   "outputs": [],
   "source": [
    "grouped=df[['id', 'length']].groupby(['id']).sum()\n",
    "grouped['RealFraction']=grouped['length']/grouped['length'].sum()\n",
    "CATEGORIES_df= pd.merge(CATEGORIES, grouped, on='id')"
   ]
  },
  {
   "cell_type": "code",
   "execution_count": 12,
   "metadata": {},
   "outputs": [],
   "source": [
    "for category in CATEGORIES_df['id']:\n",
    "    f= open(\"brown-uk/corpus/all_GS_\"+category+\".txt\",\"w+\")\n",
    "    #print(category)\n",
    "    for i, entry in df.iterrows():\n",
    "        #print(entry)\n",
    "        if (entry['id']==category):\n",
    "            f.write(entry['body'].replace('<quote>','_QUOTE_ ').\n",
    "                    replace(' _QUOTE_','').\n",
    "                    replace('_PICTURE_ ','').\n",
    "                    replace('_CHART_ ','').\n",
    "                    replace('_TABLE_ ','').\n",
    "                    replace('_FORMULA_ ',''))\n",
    "    f.close()"
   ]
  },
  {
   "cell_type": "code",
   "execution_count": 13,
   "metadata": {},
   "outputs": [],
   "source": [
    "f= open(\"brown-uk/corpus/all_GS.txt\",\"w+\")\n",
    "for i, entry in df.iterrows():\n",
    "    f.write(entry['body'].replace('<quote>','_QUOTE_ ').\n",
    "                    replace(' _QUOTE_','').\n",
    "                    replace('_PICTURE_ ','').\n",
    "                    replace('_CHART_ ','').\n",
    "                    replace('_TABLE_ ','').\n",
    "                    replace('_FORMULA_ ',''))\n",
    "f.close()"
   ]
  },
  {
   "cell_type": "code",
   "execution_count": 14,
   "metadata": {},
   "outputs": [],
   "source": [
    "data = pd.read_csv('results/tagtext.lemma.freq.txt', sep=\"\\t\", header = None)\n",
    "lemmas=pd.DataFrame()\n",
    "data.columns=['Freq', 'Lemma']\n",
    "\n",
    "data_A = pd.read_csv('results/tagtext_GS_A.lemma.freq.txt', sep=\"\\t\", header = None)\n",
    "data_A.columns=['Freq_A', 'Lemma']\n",
    "num_sentences_A=len(pd.read_csv('results/tagtext_GS_A.txt', sep=\"\\n\", header = None))\n",
    "lemmas=lemmas.append({'id':'A', 'UniqueLemmas':len(data_A), 'NumSentences':num_sentences_A},ignore_index=True)\n",
    "\n",
    "data_B = pd.read_csv('results/tagtext_GS_B.lemma.freq.txt', sep=\"\\t\", header = None)\n",
    "data_B.columns=['Freq_B', 'Lemma']\n",
    "num_sentences_B=len(pd.read_csv('results/tagtext_GS_B.txt', sep=\"\\n\", header = None))\n",
    "lemmas=lemmas.append({'id':'B', 'UniqueLemmas':len(data_B), 'NumSentences':num_sentences_B},ignore_index=True )\n",
    "\n",
    "data_C = pd.read_csv('results/tagtext_GS_C.lemma.freq.txt', sep=\"\\t\", header = None)\n",
    "data_C.columns=['Freq_C', 'Lemma']\n",
    "num_sentences_C=len(pd.read_csv('results/tagtext_GS_C.txt', sep=\"\\n\", header = None))\n",
    "lemmas=lemmas.append({'id':'C', 'UniqueLemmas':len(data_C), 'NumSentences':num_sentences_C},ignore_index=True )\n",
    "\n",
    "data_D = pd.read_csv('results/tagtext_GS_D.lemma.freq.txt', sep=\"\\t\", header = None)\n",
    "data_D.columns=['Freq_D', 'Lemma']\n",
    "num_sentences_D=len(pd.read_csv('results/tagtext_GS_D.txt', sep=\"\\n\", header = None))\n",
    "lemmas=lemmas.append({'id':'D', 'UniqueLemmas':len(data_D), 'NumSentences':num_sentences_D},ignore_index=True )\n",
    "\n",
    "data_E = pd.read_csv('results/tagtext_GS_E.lemma.freq.txt', sep=\"\\t\", header = None)\n",
    "data_E.columns=['Freq_E', 'Lemma']\n",
    "num_sentences_E=len(pd.read_csv('results/tagtext_GS_E.txt', sep=\"\\n\", header = None))\n",
    "lemmas=lemmas.append({'id':'E', 'UniqueLemmas':len(data_E), 'NumSentences':num_sentences_E},ignore_index=True )\n",
    "\n",
    "data_F = pd.read_csv('results/tagtext_GS_F.lemma.freq.txt', sep=\"\\t\", header = None)\n",
    "data_F.columns=['Freq_F', 'Lemma']\n",
    "num_sentences_F=len(pd.read_csv('results/tagtext_GS_F.txt', sep=\"\\n\", header = None))\n",
    "lemmas=lemmas.append({'id':'F', 'UniqueLemmas':len(data_F), 'NumSentences':num_sentences_F},ignore_index=True )\n",
    "\n",
    "data_G = pd.read_csv('results/tagtext_GS_G.lemma.freq.txt', sep=\"\\t\", header = None)\n",
    "data_G.columns=['Freq_G', 'Lemma']\n",
    "num_sentences_G=len(pd.read_csv('results/tagtext_GS_G.txt', sep=\"\\n\", header = None))\n",
    "lemmas=lemmas.append({'id':'G', 'UniqueLemmas':len(data_G), 'NumSentences':num_sentences_G},ignore_index=True )\n",
    "\n",
    "data_H = pd.read_csv('results/tagtext_GS_H.lemma.freq.txt', sep=\"\\t\", header = None)\n",
    "data_H.columns=['Freq_H', 'Lemma']\n",
    "num_sentences_H=len(pd.read_csv('results/tagtext_GS_H.txt', sep=\"\\n\", header = None))\n",
    "lemmas=lemmas.append({'id':'H', 'UniqueLemmas':len(data_H), 'NumSentences':num_sentences_H},ignore_index=True )\n",
    "\n",
    "data_I = pd.read_csv('results/tagtext_GS_I.lemma.freq.txt', sep=\"\\t\", header = None)\n",
    "data_I.columns=['Freq_I', 'Lemma']\n",
    "num_sentences_I=len(pd.read_csv('results/tagtext_GS_I.txt', sep=\"\\n\", header = None))\n",
    "lemmas=lemmas.append({'id':'I', 'UniqueLemmas':len(data_I), 'NumSentences':num_sentences_I},ignore_index=True )\n",
    "\n",
    "CATEGORIES_df= pd.merge(CATEGORIES_df, lemmas, on='id')"
   ]
  },
  {
   "cell_type": "code",
   "execution_count": 15,
   "metadata": {},
   "outputs": [
    {
     "data": {
      "text/html": [
       "<p style='font-weight: bold; color:black; font-size:150%; font-family:verdana;text-align:center;'> Statistic by category</p>"
      ],
      "text/plain": [
       "<IPython.core.display.HTML object>"
      ]
     },
     "metadata": {},
     "output_type": "display_data"
    },
    {
     "data": {
      "text/html": [
       "<div>\n",
       "<style scoped>\n",
       "    .dataframe tbody tr th:only-of-type {\n",
       "        vertical-align: middle;\n",
       "    }\n",
       "\n",
       "    .dataframe tbody tr th {\n",
       "        vertical-align: top;\n",
       "    }\n",
       "\n",
       "    .dataframe thead th {\n",
       "        text-align: right;\n",
       "    }\n",
       "</style>\n",
       "<table border=\"1\" class=\"dataframe\">\n",
       "  <thead>\n",
       "    <tr style=\"text-align: right;\">\n",
       "      <th></th>\n",
       "      <th>id</th>\n",
       "      <th>Category</th>\n",
       "      <th>Fraction</th>\n",
       "      <th>Description</th>\n",
       "      <th>length</th>\n",
       "      <th>RealFraction</th>\n",
       "      <th>NumSentences</th>\n",
       "      <th>UniqueLemmas</th>\n",
       "    </tr>\n",
       "  </thead>\n",
       "  <tbody>\n",
       "    <tr>\n",
       "      <th>0</th>\n",
       "      <td>A</td>\n",
       "      <td>Преса</td>\n",
       "      <td>25%</td>\n",
       "      <td>Репортажі, огляди, редакційні статті, листи до редакції; національні й регіональні видання; тематично - політика, спорт, суспільство, економіка й фінанси, короткі новини, культура - театр, література, музика, танці</td>\n",
       "      <td>144276</td>\n",
       "      <td>0.240136</td>\n",
       "      <td>9333.0</td>\n",
       "      <td>18293.0</td>\n",
       "    </tr>\n",
       "    <tr>\n",
       "      <th>1</th>\n",
       "      <td>B</td>\n",
       "      <td>Релігійна література</td>\n",
       "      <td>3%</td>\n",
       "      <td>Книжки, періодика, брошури</td>\n",
       "      <td>19548</td>\n",
       "      <td>0.032536</td>\n",
       "      <td>1220.0</td>\n",
       "      <td>4710.0</td>\n",
       "    </tr>\n",
       "    <tr>\n",
       "      <th>2</th>\n",
       "      <td>C</td>\n",
       "      <td>Професійно-популярна література</td>\n",
       "      <td>7%</td>\n",
       "      <td>Книжки й періодика; домоводство, ремесла, «сад і город», хобі, ремонт і будівництво, конструювання, музика й танці, домашні тварини, спорт, їжа й вино, подорожі, фермерство, робочі професії тощо</td>\n",
       "      <td>32160</td>\n",
       "      <td>0.053528</td>\n",
       "      <td>2393.0</td>\n",
       "      <td>7356.0</td>\n",
       "    </tr>\n",
       "    <tr>\n",
       "      <th>3</th>\n",
       "      <td>D</td>\n",
       "      <td>«Естетичні інформативні» тексти</td>\n",
       "      <td>7%</td>\n",
       "      <td>Інформативні тексти, що не потрапляють в інші категорії, зокрема, біографії, мемуари, есеї, передмови, особисті листи, художня й мистецтвознавча критика, рекламні тексти</td>\n",
       "      <td>47491</td>\n",
       "      <td>0.079045</td>\n",
       "      <td>2820.0</td>\n",
       "      <td>10858.0</td>\n",
       "    </tr>\n",
       "    <tr>\n",
       "      <th>4</th>\n",
       "      <td>E</td>\n",
       "      <td>Адміністративні документи</td>\n",
       "      <td>3%</td>\n",
       "      <td>Закони, урядові акти, звіти організацій/фондів/компаній, офіційні листи</td>\n",
       "      <td>11964</td>\n",
       "      <td>0.019913</td>\n",
       "      <td>563.0</td>\n",
       "      <td>2272.0</td>\n",
       "    </tr>\n",
       "    <tr>\n",
       "      <th>5</th>\n",
       "      <td>F</td>\n",
       "      <td>Науково-популярна література</td>\n",
       "      <td>5%</td>\n",
       "      <td>None</td>\n",
       "      <td>32545</td>\n",
       "      <td>0.054169</td>\n",
       "      <td>2137.0</td>\n",
       "      <td>7404.0</td>\n",
       "    </tr>\n",
       "    <tr>\n",
       "      <th>6</th>\n",
       "      <td>G</td>\n",
       "      <td>Наукова література</td>\n",
       "      <td>10%</td>\n",
       "      <td>Книжки й періодика; природничі й гуманітарні науки, техніка й інженерна справа</td>\n",
       "      <td>67690</td>\n",
       "      <td>0.112665</td>\n",
       "      <td>3114.0</td>\n",
       "      <td>9252.0</td>\n",
       "    </tr>\n",
       "    <tr>\n",
       "      <th>7</th>\n",
       "      <td>H</td>\n",
       "      <td>Навчальна література</td>\n",
       "      <td>15%</td>\n",
       "      <td>Підручники, посібники, гуманітарні та природничі науки тощо</td>\n",
       "      <td>81245</td>\n",
       "      <td>0.135226</td>\n",
       "      <td>4913.0</td>\n",
       "      <td>11010.0</td>\n",
       "    </tr>\n",
       "    <tr>\n",
       "      <th>8</th>\n",
       "      <td>I</td>\n",
       "      <td>Художні тексти</td>\n",
       "      <td>25%</td>\n",
       "      <td>Романи, повісті, оповідання, новели, за тематикою – загальна, детективи, фантастика, пригодницька, любовна, гумористична тощо</td>\n",
       "      <td>163891</td>\n",
       "      <td>0.272783</td>\n",
       "      <td>13527.0</td>\n",
       "      <td>21405.0</td>\n",
       "    </tr>\n",
       "  </tbody>\n",
       "</table>\n",
       "</div>"
      ],
      "text/plain": [
       "  id                         Category Fraction  \\\n",
       "0  A  Преса                            25%       \n",
       "1  B  Релігійна література             3%        \n",
       "2  C  Професійно-популярна література  7%        \n",
       "3  D  «Естетичні інформативні» тексти  7%        \n",
       "4  E  Адміністративні документи        3%        \n",
       "5  F  Науково-популярна література     5%        \n",
       "6  G  Наукова література               10%       \n",
       "7  H  Навчальна література             15%       \n",
       "8  I  Художні тексти                   25%       \n",
       "\n",
       "                                                                                                                                                                                                              Description  \\\n",
       "0  Репортажі, огляди, редакційні статті, листи до редакції; національні й регіональні видання; тематично - політика, спорт, суспільство, економіка й фінанси, короткі новини, культура - театр, література, музика, танці   \n",
       "1  Книжки, періодика, брошури                                                                                                                                                                                               \n",
       "2  Книжки й періодика; домоводство, ремесла, «сад і город», хобі, ремонт і будівництво, конструювання, музика й танці, домашні тварини, спорт, їжа й вино, подорожі, фермерство, робочі професії тощо                       \n",
       "3  Інформативні тексти, що не потрапляють в інші категорії, зокрема, біографії, мемуари, есеї, передмови, особисті листи, художня й мистецтвознавча критика, рекламні тексти                                                \n",
       "4  Закони, урядові акти, звіти організацій/фондів/компаній, офіційні листи                                                                                                                                                  \n",
       "5  None                                                                                                                                                                                                                     \n",
       "6  Книжки й періодика; природничі й гуманітарні науки, техніка й інженерна справа                                                                                                                                           \n",
       "7  Підручники, посібники, гуманітарні та природничі науки тощо                                                                                                                                                              \n",
       "8  Романи, повісті, оповідання, новели, за тематикою – загальна, детективи, фантастика, пригодницька, любовна, гумористична тощо                                                                                            \n",
       "\n",
       "   length  RealFraction  NumSentences  UniqueLemmas  \n",
       "0  144276  0.240136      9333.0        18293.0       \n",
       "1  19548   0.032536      1220.0        4710.0        \n",
       "2  32160   0.053528      2393.0        7356.0        \n",
       "3  47491   0.079045      2820.0        10858.0       \n",
       "4  11964   0.019913      563.0         2272.0        \n",
       "5  32545   0.054169      2137.0        7404.0        \n",
       "6  67690   0.112665      3114.0        9252.0        \n",
       "7  81245   0.135226      4913.0        11010.0       \n",
       "8  163891  0.272783      13527.0       21405.0       "
      ]
     },
     "execution_count": 15,
     "metadata": {},
     "output_type": "execute_result"
    }
   ],
   "source": [
    "display(HTML(\"<p style='font-weight: bold; color:black; font-size:150%; font-family:verdana;text-align:center;'> \"+\n",
    "             \"Statistic by category</p>\"))\n",
    "CATEGORIES_df\n"
   ]
  },
  {
   "cell_type": "code",
   "execution_count": 16,
   "metadata": {},
   "outputs": [],
   "source": [
    "data= pd.merge(data, data_A, on='Lemma', how='left')\n",
    "data= pd.merge(data, data_B, on='Lemma', how='left')\n",
    "data= pd.merge(data, data_C, on='Lemma', how='left')\n",
    "data= pd.merge(data, data_D, on='Lemma', how='left')\n",
    "data= pd.merge(data, data_E, on='Lemma', how='left')\n",
    "data= pd.merge(data, data_F, on='Lemma', how='left')\n",
    "data= pd.merge(data, data_G, on='Lemma', how='left')\n",
    "data= pd.merge(data, data_H, on='Lemma', how='left')\n",
    "data= pd.merge(data, data_I, on='Lemma', how='left')\n",
    "data.fillna(0, inplace=True)"
   ]
  },
  {
   "cell_type": "code",
   "execution_count": 31,
   "metadata": {},
   "outputs": [
    {
     "data": {
      "text/html": [
       "<p style='font-weight: bold; color:black; font-size:150%; font-family:verdana;text-align:center;'> Length of all text (Number of words)</p>"
      ],
      "text/plain": [
       "<IPython.core.display.HTML object>"
      ]
     },
     "metadata": {},
     "output_type": "display_data"
    },
    {
     "data": {
      "text/html": [
       "<p style='font-weight: bold; color:black; font-size:110%; font-family:verdana;text-align:center;'> 600810 words </p>"
      ],
      "text/plain": [
       "<IPython.core.display.HTML object>"
      ]
     },
     "metadata": {},
     "output_type": "display_data"
    }
   ],
   "source": [
    "display(HTML(\"<p style='font-weight: bold; color:black; font-size:150%; font-family:verdana;text-align:center;'> \"+\n",
    "             \"Length of all text (Number of words)</p>\"))\n",
    "display(HTML(\"<p style='font-weight: bold; color:black; font-size:110%; font-family:verdana;text-align:center;'> \"+\n",
    "             str(df['length'].sum())+\" words </p>\"))"
   ]
  },
  {
   "cell_type": "code",
   "execution_count": 18,
   "metadata": {},
   "outputs": [
    {
     "data": {
      "text/html": [
       "<p style='font-weight: bold; color:black; font-size:150%; font-family:verdana;text-align:center;'> Number of unique lemmas</p>"
      ],
      "text/plain": [
       "<IPython.core.display.HTML object>"
      ]
     },
     "metadata": {},
     "output_type": "display_data"
    },
    {
     "data": {
      "text/html": [
       "<p style='font-weight: bold; color:black; font-size:110%; font-family:verdana;text-align:center;'> 38728 lemmas </p>"
      ],
      "text/plain": [
       "<IPython.core.display.HTML object>"
      ]
     },
     "metadata": {},
     "output_type": "display_data"
    }
   ],
   "source": [
    "display(HTML(\"<p style='font-weight: bold; color:black; font-size:150%; font-family:verdana;text-align:center;'> \"+\n",
    "             \"Number of unique lemmas</p>\"))\n",
    "display(HTML(\"<p style='font-weight: bold; color:black; font-size:110%; font-family:verdana;text-align:center;'> \"+\n",
    "             str(len(data))+\" lemmas </p>\"))"
   ]
  },
  {
   "cell_type": "code",
   "execution_count": 19,
   "metadata": {},
   "outputs": [
    {
     "data": {
      "text/html": [
       "<p style='font-weight: bold; color:black; font-size:150%; font-family:verdana;text-align:center;'> Top used lemmas for category A</p>"
      ],
      "text/plain": [
       "<IPython.core.display.HTML object>"
      ]
     },
     "metadata": {},
     "output_type": "display_data"
    },
    {
     "data": {
      "text/html": [
       "<div>\n",
       "<style scoped>\n",
       "    .dataframe tbody tr th:only-of-type {\n",
       "        vertical-align: middle;\n",
       "    }\n",
       "\n",
       "    .dataframe tbody tr th {\n",
       "        vertical-align: top;\n",
       "    }\n",
       "\n",
       "    .dataframe thead th {\n",
       "        text-align: right;\n",
       "    }\n",
       "</style>\n",
       "<table border=\"1\" class=\"dataframe\">\n",
       "  <thead>\n",
       "    <tr style=\"text-align: right;\">\n",
       "      <th></th>\n",
       "      <th>Freq</th>\n",
       "      <th>Lemma</th>\n",
       "      <th>Freq_A</th>\n",
       "      <th>Freq_B</th>\n",
       "      <th>Freq_C</th>\n",
       "      <th>Freq_D</th>\n",
       "      <th>Freq_E</th>\n",
       "      <th>Freq_F</th>\n",
       "      <th>Freq_G</th>\n",
       "      <th>Freq_H</th>\n",
       "      <th>Freq_I</th>\n",
       "    </tr>\n",
       "  </thead>\n",
       "  <tbody>\n",
       "    <tr>\n",
       "      <th>15636</th>\n",
       "      <td>32346</td>\n",
       "      <td>його</td>\n",
       "      <td>7524.0</td>\n",
       "      <td>1926.0</td>\n",
       "      <td>1404.0</td>\n",
       "      <td>3096.0</td>\n",
       "      <td>342.0</td>\n",
       "      <td>1746.0</td>\n",
       "      <td>2898.0</td>\n",
       "      <td>4752.0</td>\n",
       "      <td>14310.0</td>\n",
       "    </tr>\n",
       "    <tr>\n",
       "      <th>38179</th>\n",
       "      <td>22072</td>\n",
       "      <td>і</td>\n",
       "      <td>5230.0</td>\n",
       "      <td>1112.0</td>\n",
       "      <td>1280.0</td>\n",
       "      <td>2446.0</td>\n",
       "      <td>266.0</td>\n",
       "      <td>1188.0</td>\n",
       "      <td>2176.0</td>\n",
       "      <td>2970.0</td>\n",
       "      <td>8792.0</td>\n",
       "    </tr>\n",
       "    <tr>\n",
       "      <th>37863</th>\n",
       "      <td>17827</td>\n",
       "      <td>що</td>\n",
       "      <td>4717.0</td>\n",
       "      <td>728.0</td>\n",
       "      <td>664.0</td>\n",
       "      <td>1787.0</td>\n",
       "      <td>232.0</td>\n",
       "      <td>951.0</td>\n",
       "      <td>1976.0</td>\n",
       "      <td>2151.0</td>\n",
       "      <td>7592.0</td>\n",
       "    </tr>\n",
       "    <tr>\n",
       "      <th>38676</th>\n",
       "      <td>25254</td>\n",
       "      <td>її</td>\n",
       "      <td>4572.0</td>\n",
       "      <td>1026.0</td>\n",
       "      <td>1152.0</td>\n",
       "      <td>1962.0</td>\n",
       "      <td>306.0</td>\n",
       "      <td>1224.0</td>\n",
       "      <td>2340.0</td>\n",
       "      <td>3186.0</td>\n",
       "      <td>12834.0</td>\n",
       "    </tr>\n",
       "    <tr>\n",
       "      <th>5960</th>\n",
       "      <td>13914</td>\n",
       "      <td>бути</td>\n",
       "      <td>3565.0</td>\n",
       "      <td>848.0</td>\n",
       "      <td>1006.0</td>\n",
       "      <td>1268.0</td>\n",
       "      <td>195.0</td>\n",
       "      <td>858.0</td>\n",
       "      <td>2439.0</td>\n",
       "      <td>2941.0</td>\n",
       "      <td>2839.0</td>\n",
       "    </tr>\n",
       "    <tr>\n",
       "      <th>36835</th>\n",
       "      <td>10795</td>\n",
       "      <td>цей</td>\n",
       "      <td>3360.0</td>\n",
       "      <td>474.0</td>\n",
       "      <td>763.0</td>\n",
       "      <td>1136.0</td>\n",
       "      <td>176.0</td>\n",
       "      <td>814.0</td>\n",
       "      <td>1230.0</td>\n",
       "      <td>1411.0</td>\n",
       "      <td>3123.0</td>\n",
       "    </tr>\n",
       "    <tr>\n",
       "      <th>34204</th>\n",
       "      <td>10936</td>\n",
       "      <td>та</td>\n",
       "      <td>3102.0</td>\n",
       "      <td>352.0</td>\n",
       "      <td>766.0</td>\n",
       "      <td>742.0</td>\n",
       "      <td>562.0</td>\n",
       "      <td>718.0</td>\n",
       "      <td>2470.0</td>\n",
       "      <td>2050.0</td>\n",
       "      <td>2120.0</td>\n",
       "    </tr>\n",
       "    <tr>\n",
       "      <th>19840</th>\n",
       "      <td>9152</td>\n",
       "      <td>на</td>\n",
       "      <td>2842.0</td>\n",
       "      <td>260.0</td>\n",
       "      <td>582.0</td>\n",
       "      <td>741.0</td>\n",
       "      <td>235.0</td>\n",
       "      <td>549.0</td>\n",
       "      <td>1042.0</td>\n",
       "      <td>1198.0</td>\n",
       "      <td>3248.0</td>\n",
       "    </tr>\n",
       "    <tr>\n",
       "      <th>34725</th>\n",
       "      <td>10184</td>\n",
       "      <td>той</td>\n",
       "      <td>2775.0</td>\n",
       "      <td>531.0</td>\n",
       "      <td>584.0</td>\n",
       "      <td>1230.0</td>\n",
       "      <td>58.0</td>\n",
       "      <td>622.0</td>\n",
       "      <td>924.0</td>\n",
       "      <td>1197.0</td>\n",
       "      <td>3792.0</td>\n",
       "    </tr>\n",
       "    <tr>\n",
       "      <th>38013</th>\n",
       "      <td>8577</td>\n",
       "      <td>який</td>\n",
       "      <td>2524.0</td>\n",
       "      <td>436.0</td>\n",
       "      <td>461.0</td>\n",
       "      <td>762.0</td>\n",
       "      <td>195.0</td>\n",
       "      <td>584.0</td>\n",
       "      <td>1255.0</td>\n",
       "      <td>1743.0</td>\n",
       "      <td>1985.0</td>\n",
       "    </tr>\n",
       "  </tbody>\n",
       "</table>\n",
       "</div>"
      ],
      "text/plain": [
       "        Freq Lemma  Freq_A  Freq_B  Freq_C  Freq_D  Freq_E  Freq_F  Freq_G  \\\n",
       "15636  32346  його  7524.0  1926.0  1404.0  3096.0  342.0   1746.0  2898.0   \n",
       "38179  22072  і     5230.0  1112.0  1280.0  2446.0  266.0   1188.0  2176.0   \n",
       "37863  17827  що    4717.0  728.0   664.0   1787.0  232.0   951.0   1976.0   \n",
       "38676  25254  її    4572.0  1026.0  1152.0  1962.0  306.0   1224.0  2340.0   \n",
       "5960   13914  бути  3565.0  848.0   1006.0  1268.0  195.0   858.0   2439.0   \n",
       "36835  10795  цей   3360.0  474.0   763.0   1136.0  176.0   814.0   1230.0   \n",
       "34204  10936  та    3102.0  352.0   766.0   742.0   562.0   718.0   2470.0   \n",
       "19840  9152   на    2842.0  260.0   582.0   741.0   235.0   549.0   1042.0   \n",
       "34725  10184  той   2775.0  531.0   584.0   1230.0  58.0    622.0   924.0    \n",
       "38013  8577   який  2524.0  436.0   461.0   762.0   195.0   584.0   1255.0   \n",
       "\n",
       "       Freq_H   Freq_I  \n",
       "15636  4752.0  14310.0  \n",
       "38179  2970.0  8792.0   \n",
       "37863  2151.0  7592.0   \n",
       "38676  3186.0  12834.0  \n",
       "5960   2941.0  2839.0   \n",
       "36835  1411.0  3123.0   \n",
       "34204  2050.0  2120.0   \n",
       "19840  1198.0  3248.0   \n",
       "34725  1197.0  3792.0   \n",
       "38013  1743.0  1985.0   "
      ]
     },
     "execution_count": 19,
     "metadata": {},
     "output_type": "execute_result"
    }
   ],
   "source": [
    "display(HTML(\"<p style='font-weight: bold; color:black; font-size:150%; font-family:verdana;text-align:center;'> \"+\n",
    "             \"Top used lemmas for category A</p>\"))\n",
    "\n",
    "data.sort_values(by=['Freq_A'],ascending=False).head(10)"
   ]
  },
  {
   "cell_type": "code",
   "execution_count": 20,
   "metadata": {},
   "outputs": [
    {
     "data": {
      "text/html": [
       "<p style='font-weight: bold; color:black; font-size:150%; font-family:verdana;text-align:center;'> Top used lemmas for category B</p>"
      ],
      "text/plain": [
       "<IPython.core.display.HTML object>"
      ]
     },
     "metadata": {},
     "output_type": "display_data"
    },
    {
     "data": {
      "text/html": [
       "<div>\n",
       "<style scoped>\n",
       "    .dataframe tbody tr th:only-of-type {\n",
       "        vertical-align: middle;\n",
       "    }\n",
       "\n",
       "    .dataframe tbody tr th {\n",
       "        vertical-align: top;\n",
       "    }\n",
       "\n",
       "    .dataframe thead th {\n",
       "        text-align: right;\n",
       "    }\n",
       "</style>\n",
       "<table border=\"1\" class=\"dataframe\">\n",
       "  <thead>\n",
       "    <tr style=\"text-align: right;\">\n",
       "      <th></th>\n",
       "      <th>Freq</th>\n",
       "      <th>Lemma</th>\n",
       "      <th>Freq_A</th>\n",
       "      <th>Freq_B</th>\n",
       "      <th>Freq_C</th>\n",
       "      <th>Freq_D</th>\n",
       "      <th>Freq_E</th>\n",
       "      <th>Freq_F</th>\n",
       "      <th>Freq_G</th>\n",
       "      <th>Freq_H</th>\n",
       "      <th>Freq_I</th>\n",
       "    </tr>\n",
       "  </thead>\n",
       "  <tbody>\n",
       "    <tr>\n",
       "      <th>15636</th>\n",
       "      <td>32346</td>\n",
       "      <td>його</td>\n",
       "      <td>7524.0</td>\n",
       "      <td>1926.0</td>\n",
       "      <td>1404.0</td>\n",
       "      <td>3096.0</td>\n",
       "      <td>342.0</td>\n",
       "      <td>1746.0</td>\n",
       "      <td>2898.0</td>\n",
       "      <td>4752.0</td>\n",
       "      <td>14310.0</td>\n",
       "    </tr>\n",
       "    <tr>\n",
       "      <th>38179</th>\n",
       "      <td>22072</td>\n",
       "      <td>і</td>\n",
       "      <td>5230.0</td>\n",
       "      <td>1112.0</td>\n",
       "      <td>1280.0</td>\n",
       "      <td>2446.0</td>\n",
       "      <td>266.0</td>\n",
       "      <td>1188.0</td>\n",
       "      <td>2176.0</td>\n",
       "      <td>2970.0</td>\n",
       "      <td>8792.0</td>\n",
       "    </tr>\n",
       "    <tr>\n",
       "      <th>38676</th>\n",
       "      <td>25254</td>\n",
       "      <td>її</td>\n",
       "      <td>4572.0</td>\n",
       "      <td>1026.0</td>\n",
       "      <td>1152.0</td>\n",
       "      <td>1962.0</td>\n",
       "      <td>306.0</td>\n",
       "      <td>1224.0</td>\n",
       "      <td>2340.0</td>\n",
       "      <td>3186.0</td>\n",
       "      <td>12834.0</td>\n",
       "    </tr>\n",
       "    <tr>\n",
       "      <th>5960</th>\n",
       "      <td>13914</td>\n",
       "      <td>бути</td>\n",
       "      <td>3565.0</td>\n",
       "      <td>848.0</td>\n",
       "      <td>1006.0</td>\n",
       "      <td>1268.0</td>\n",
       "      <td>195.0</td>\n",
       "      <td>858.0</td>\n",
       "      <td>2439.0</td>\n",
       "      <td>2941.0</td>\n",
       "      <td>2839.0</td>\n",
       "    </tr>\n",
       "    <tr>\n",
       "      <th>37863</th>\n",
       "      <td>17827</td>\n",
       "      <td>що</td>\n",
       "      <td>4717.0</td>\n",
       "      <td>728.0</td>\n",
       "      <td>664.0</td>\n",
       "      <td>1787.0</td>\n",
       "      <td>232.0</td>\n",
       "      <td>951.0</td>\n",
       "      <td>1976.0</td>\n",
       "      <td>2151.0</td>\n",
       "      <td>7592.0</td>\n",
       "    </tr>\n",
       "    <tr>\n",
       "      <th>34725</th>\n",
       "      <td>10184</td>\n",
       "      <td>той</td>\n",
       "      <td>2775.0</td>\n",
       "      <td>531.0</td>\n",
       "      <td>584.0</td>\n",
       "      <td>1230.0</td>\n",
       "      <td>58.0</td>\n",
       "      <td>622.0</td>\n",
       "      <td>924.0</td>\n",
       "      <td>1197.0</td>\n",
       "      <td>3792.0</td>\n",
       "    </tr>\n",
       "    <tr>\n",
       "      <th>36835</th>\n",
       "      <td>10795</td>\n",
       "      <td>цей</td>\n",
       "      <td>3360.0</td>\n",
       "      <td>474.0</td>\n",
       "      <td>763.0</td>\n",
       "      <td>1136.0</td>\n",
       "      <td>176.0</td>\n",
       "      <td>814.0</td>\n",
       "      <td>1230.0</td>\n",
       "      <td>1411.0</td>\n",
       "      <td>3123.0</td>\n",
       "    </tr>\n",
       "    <tr>\n",
       "      <th>38013</th>\n",
       "      <td>8577</td>\n",
       "      <td>який</td>\n",
       "      <td>2524.0</td>\n",
       "      <td>436.0</td>\n",
       "      <td>461.0</td>\n",
       "      <td>762.0</td>\n",
       "      <td>195.0</td>\n",
       "      <td>584.0</td>\n",
       "      <td>1255.0</td>\n",
       "      <td>1743.0</td>\n",
       "      <td>1985.0</td>\n",
       "    </tr>\n",
       "    <tr>\n",
       "      <th>12686</th>\n",
       "      <td>3185</td>\n",
       "      <td>життя</td>\n",
       "      <td>674.0</td>\n",
       "      <td>416.0</td>\n",
       "      <td>110.0</td>\n",
       "      <td>547.0</td>\n",
       "      <td>8.0</td>\n",
       "      <td>228.0</td>\n",
       "      <td>224.0</td>\n",
       "      <td>533.0</td>\n",
       "      <td>1039.0</td>\n",
       "    </tr>\n",
       "    <tr>\n",
       "      <th>38006</th>\n",
       "      <td>8542</td>\n",
       "      <td>як</td>\n",
       "      <td>2100.0</td>\n",
       "      <td>375.0</td>\n",
       "      <td>375.0</td>\n",
       "      <td>1071.0</td>\n",
       "      <td>63.0</td>\n",
       "      <td>546.0</td>\n",
       "      <td>1167.0</td>\n",
       "      <td>1041.0</td>\n",
       "      <td>3488.0</td>\n",
       "    </tr>\n",
       "  </tbody>\n",
       "</table>\n",
       "</div>"
      ],
      "text/plain": [
       "        Freq  Lemma  Freq_A  Freq_B  Freq_C  Freq_D  Freq_E  Freq_F  Freq_G  \\\n",
       "15636  32346  його   7524.0  1926.0  1404.0  3096.0  342.0   1746.0  2898.0   \n",
       "38179  22072  і      5230.0  1112.0  1280.0  2446.0  266.0   1188.0  2176.0   \n",
       "38676  25254  її     4572.0  1026.0  1152.0  1962.0  306.0   1224.0  2340.0   \n",
       "5960   13914  бути   3565.0  848.0   1006.0  1268.0  195.0   858.0   2439.0   \n",
       "37863  17827  що     4717.0  728.0   664.0   1787.0  232.0   951.0   1976.0   \n",
       "34725  10184  той    2775.0  531.0   584.0   1230.0  58.0    622.0   924.0    \n",
       "36835  10795  цей    3360.0  474.0   763.0   1136.0  176.0   814.0   1230.0   \n",
       "38013  8577   який   2524.0  436.0   461.0   762.0   195.0   584.0   1255.0   \n",
       "12686  3185   життя  674.0   416.0   110.0   547.0   8.0     228.0   224.0    \n",
       "38006  8542   як     2100.0  375.0   375.0   1071.0  63.0    546.0   1167.0   \n",
       "\n",
       "       Freq_H   Freq_I  \n",
       "15636  4752.0  14310.0  \n",
       "38179  2970.0  8792.0   \n",
       "38676  3186.0  12834.0  \n",
       "5960   2941.0  2839.0   \n",
       "37863  2151.0  7592.0   \n",
       "34725  1197.0  3792.0   \n",
       "36835  1411.0  3123.0   \n",
       "38013  1743.0  1985.0   \n",
       "12686  533.0   1039.0   \n",
       "38006  1041.0  3488.0   "
      ]
     },
     "execution_count": 20,
     "metadata": {},
     "output_type": "execute_result"
    }
   ],
   "source": [
    "display(HTML(\"<p style='font-weight: bold; color:black; font-size:150%; font-family:verdana;text-align:center;'> \"+\n",
    "             \"Top used lemmas for category B</p>\"))\n",
    "\n",
    "data.sort_values(by=['Freq_B'],ascending=False).head(10)"
   ]
  },
  {
   "cell_type": "code",
   "execution_count": 21,
   "metadata": {},
   "outputs": [
    {
     "data": {
      "text/html": [
       "<p style='font-weight: bold; color:black; font-size:150%; font-family:verdana;text-align:center;'> => Top used lemmas for categories are almost the same. But of course distrbution differs</p>"
      ],
      "text/plain": [
       "<IPython.core.display.HTML object>"
      ]
     },
     "metadata": {},
     "output_type": "display_data"
    }
   ],
   "source": [
    "display(HTML(\"<p style='font-weight: bold; color:black; font-size:150%; font-family:verdana;text-align:center;'> \"+\n",
    "             \"=> Top used lemmas for categories are almost the same. But of course distrbution differs</p>\"))"
   ]
  },
  {
   "cell_type": "code",
   "execution_count": 22,
   "metadata": {},
   "outputs": [
    {
     "data": {
      "text/html": [
       "<p style='font-weight: bold; color:black; font-size:200%; font-family:verdana;text-align:center;'> <b>Distribution lem frequences</b></p>"
      ],
      "text/plain": [
       "<IPython.core.display.HTML object>"
      ]
     },
     "metadata": {},
     "output_type": "display_data"
    },
    {
     "data": {
      "image/png": "[encoded data removed]",
      "text/plain": [
       "<Figure size 648x360 with 1 Axes>"
      ]
     },
     "metadata": {
      "needs_background": "light"
     },
     "output_type": "display_data"
    }
   ],
   "source": [
    "display(HTML(\"<p style='font-weight: bold; color:black; font-size:200%; font-family:verdana;text-align:center;'> \" + \n",
    "             \"<b>Distribution lem frequences</b>\" + \n",
    "             \"</p>\"))\n",
    "def plot_histogram_01():\n",
    "    np.random.seed(1)\n",
    "    values_A = data['Freq_A']\n",
    "    values_B = data['Freq_B']\n",
    "    values_C = data['Freq_C']\n",
    "    values_D = data['Freq_D']\n",
    "    values_E = data['Freq_E']\n",
    "    values_F = data['Freq_F']\n",
    "    values_H = data['Freq_H']\n",
    "    values_G = data['Freq_G']\n",
    "    values_I = data['Freq_I']\n",
    "\n",
    "    bins = np.arange(0,250,25)\n",
    "\n",
    "    fig, ax = plt.subplots(figsize=(9, 5))\n",
    "    _, bins, patches = plt.hist([np.clip(values_A, bins[0], bins[-1]),\n",
    "                                 np.clip(values_B, bins[0], bins[-1]),\n",
    "                                 np.clip(values_C, bins[0], bins[-1]),\n",
    "                                 np.clip(values_D, bins[0], bins[-1]),\n",
    "                                np.clip(values_E, bins[0], bins[-1]),\n",
    "                                 np.clip(values_F, bins[0], bins[-1]),\n",
    "                                 np.clip(values_H, bins[0], bins[-1]),\n",
    "                                np.clip(values_G, bins[0], bins[-1]),\n",
    "                                 np.clip(values_I, bins[0], bins[-1])],\n",
    "                                # normed=1,  # normed is deprecated; replace with density\n",
    "                                density=False,\n",
    "                                bins=bins, label=['A', 'B', 'D','E', 'F', 'H', 'G', 'I'])\n",
    "\n",
    "    xlabels = bins[1:].astype(str)\n",
    "    xlabels[-1] += '+'\n",
    "\n",
    "    N_labels = len(xlabels)\n",
    "    plt.xlim([0, 250])\n",
    "    #plt.ylim([0, 1000])\n",
    "    plt.xticks(25 * np.arange(N_labels) + 12.5)\n",
    "    ax.set_xticklabels(xlabels)\n",
    "\n",
    "    #plt.yticks([])\n",
    "    plt.title('')\n",
    "    plt.setp(patches, linewidth=0)\n",
    "    plt.legend(loc='upper left')\n",
    "\n",
    "    fig.tight_layout()\n",
    "plot_histogram_01()"
   ]
  },
  {
   "cell_type": "code",
   "execution_count": 23,
   "metadata": {},
   "outputs": [
    {
     "data": {
      "text/html": [
       "<p style='font-weight: bold; color:black; font-size:200%; font-family:verdana;text-align:center;'> <b>Distribution lem frequences with ylim=1000</b></p>"
      ],
      "text/plain": [
       "<IPython.core.display.HTML object>"
      ]
     },
     "metadata": {},
     "output_type": "display_data"
    },
    {
     "data": {
      "image/png": "[encoded data removed]",
      "text/plain": [
       "<Figure size 648x360 with 1 Axes>"
      ]
     },
     "metadata": {
      "needs_background": "light"
     },
     "output_type": "display_data"
    }
   ],
   "source": [
    "display(HTML(\"<p style='font-weight: bold; color:black; font-size:200%; font-family:verdana;text-align:center;'> \" + \n",
    "             \"<b>Distribution lem frequences with ylim=1000</b>\" + \n",
    "             \"</p>\"))\n",
    "def plot_histogram_01():\n",
    "    np.random.seed(1)\n",
    "    values_A = data['Freq_A']\n",
    "    values_B = data['Freq_B']\n",
    "    values_C = data['Freq_C']\n",
    "    values_D = data['Freq_D']\n",
    "    values_E = data['Freq_E']\n",
    "    values_F = data['Freq_F']\n",
    "    values_H = data['Freq_H']\n",
    "    values_G = data['Freq_G']\n",
    "    values_I = data['Freq_I']\n",
    "\n",
    "    bins = np.arange(0,250,25)\n",
    "\n",
    "    fig, ax = plt.subplots(figsize=(9, 5))\n",
    "    _, bins, patches = plt.hist([np.clip(values_A, bins[0], bins[-1]),\n",
    "                                 np.clip(values_B, bins[0], bins[-1]),\n",
    "                                 np.clip(values_C, bins[0], bins[-1]),\n",
    "                                 np.clip(values_D, bins[0], bins[-1]),\n",
    "                                np.clip(values_E, bins[0], bins[-1]),\n",
    "                                 np.clip(values_F, bins[0], bins[-1]),\n",
    "                                 np.clip(values_H, bins[0], bins[-1]),\n",
    "                                np.clip(values_G, bins[0], bins[-1]),\n",
    "                                 np.clip(values_I, bins[0], bins[-1])],\n",
    "                                # normed=1,  # normed is deprecated; replace with density\n",
    "                                density=False,\n",
    "                                bins=bins, label=['A', 'B', 'C','D','E', 'F', 'H', 'G', 'I'])\n",
    "\n",
    "    xlabels = bins[1:].astype(str)\n",
    "    xlabels[-1] += '+'\n",
    "\n",
    "    N_labels = len(xlabels)\n",
    "    plt.xlim([0, 250])\n",
    "    plt.ylim([0, 1000])\n",
    "    plt.xticks(25 * np.arange(N_labels) + 12.5)\n",
    "    ax.set_xticklabels(xlabels)\n",
    "\n",
    "    #plt.yticks([])\n",
    "    plt.title('')\n",
    "    plt.setp(patches, linewidth=0)\n",
    "    plt.legend(loc='upper left')\n",
    "\n",
    "    fig.tight_layout()\n",
    "plot_histogram_01()"
   ]
  },
  {
   "cell_type": "code",
   "execution_count": null,
   "metadata": {},
   "outputs": [],
   "source": []
  }
 ],
 "metadata": {
  "kernelspec": {
   "display_name": "Python 3",
   "language": "python",
   "name": "python3"
  },
  "language_info": {
   "codemirror_mode": {
    "name": "ipython",
    "version": 3
   },
   "file_extension": ".py",
   "mimetype": "text/x-python",
   "name": "python",
   "nbconvert_exporter": "python",
   "pygments_lexer": "ipython3",
   "version": "3.6.8"
  }
 },
 "nbformat": 4,
 "nbformat_minor": 2
}
