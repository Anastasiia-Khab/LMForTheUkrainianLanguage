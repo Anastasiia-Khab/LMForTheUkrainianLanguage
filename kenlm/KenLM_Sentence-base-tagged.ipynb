{
 "cells": [
  {
   "cell_type": "markdown",
   "metadata": {},
   "source": [
    "# KenLM Sentence-base\n",
    "\n",
    "#### based on:\n",
    "\n",
    "https://kheafield.com/papers/avenue/kenlm.pdf \n",
    "\n",
    "https://kheafield.com/papers/edinburgh/estimate_paper.pdf\n",
    "\n",
    "#### implementation of the estimation part:\n",
    "\n",
    "https://kheafield.com/code/kenlm/\n",
    "\n",
    "Language models are estimated from text using __[modified](http://www.ee.columbia.edu/~stanchen/papers/h015a-techreport.pdf)__ [Kneser-Ney smoothing](https://ieeexplore.ieee.org/document/479394) without pruning. It is done on disk, enabling one to build much larger models. Kneser-Ney smothng consistently outperforms all other n-grams models with smothing evaluated in this [techreport](http://www.ee.columbia.edu/~stanchen/papers/h015a-techreport.pdf) by Chen and Goodman.\n",
    "\n",
    "In this notebook I am splitting and tokenizing __[Ukrainian Brown Corpus](https://github.com/brown-uk/corpu)__ (good and so-so datasets) into sentences including symbols. Then I use KenLM scripts to estimate ARPA n-gram sentense-based models. KenLM script __lmplz__ by default uses $<s>$ and $</s>$ tags at the beginning and end of each sentence. \n",
    "\n",
    "It is only sentence-based model and it estimates score for each sentence separately. The score is equal to the  log10 probability of the sentence. Then I sum up scores for all the sentences in the corpus, divide them by the number of the words in the corpus and take 10 to the power of the resulting fraction to calculate the __perplexity__ of my model.\n",
    "\n",
    "## Installing KenLM"
   ]
  },
  {
   "cell_type": "code",
   "execution_count": 3,
   "metadata": {},
   "outputs": [],
   "source": [
    "import os\n",
    "import kenlm"
   ]
  },
  {
   "cell_type": "markdown",
   "metadata": {},
   "source": [
    "    ---# sudo apt-get install build-essential libboost-all-dev cmake zlib1g-dev libbz2-dev liblzma-dev \n",
    "    \n",
    "    ---# wget -O - https://kheafield.com/code/kenlm.tar.gz |tar xz\n",
    "         mkdir -p build && cd build\n",
    "         cmake ..\n",
    "         make -j 4\n",
    "         \n",
    "## Tokenize text\n",
    "         \n",
    "Here the __[Ukrainian Brown Corpus](https://github.com/brown-uk/corpu)__ (good and so-so datasets) is splitted into sentences including symbols.\n",
    "         \n",
    "#### [TokenizeText.groovy](https://github.com/brown-uk/nlp_uk/blob/master/src/main/groovy/org/nlp_uk/tools/README.md)\n",
    "\n",
    "\n",
    "Аналізує текст і записує результат у виходовий файл:\n",
    "\n",
    "        розбиває на речення (-s)\n",
    "        розбиває на токени (-w) (результати включають пунктуацію тому всі токени розділяються вертикальними рисками)\n",
    "        розбиває на слова (-u)\n"
   ]
  },
  {
   "cell_type": "code",
   "execution_count": 2,
   "metadata": {},
   "outputs": [
    {
     "name": "stdout",
     "output_type": "stream",
     "text": [
      "WARNING: An illegal reflective access operation has occurred\n",
      "WARNING: Illegal reflective access by org.codehaus.groovy.vmplugin.v7.Java7$1 (file:/snap/groovy/17/lib/groovy-2.5.8.jar) to constructor java.lang.invoke.MethodHandles$Lookup(java.lang.Class,int)\n",
      "WARNING: Please consider reporting this to the maintainers of org.codehaus.groovy.vmplugin.v7.Java7$1\n",
      "WARNING: Use --illegal-access=warn to enable warnings of further illegal reflective access operations\n",
      "WARNING: All illegal access operations will be denied in a future release\n",
      "writing into brown-uk/corpus/final_all_GS_tagged_words_symbols_sentences.txt\n"
     ]
    }
   ],
   "source": [
    "!groovy nlp_uk/nlp_uk/src/main/groovy/org/nlp_uk/tools/TokenizeText.groovy -s -w -i brown-uk/corpus/final_all_GS_tagged.txt -o brown-uk/corpus/final_all_GS_tagged_words_symbols_sentences.txt"
   ]
  },
  {
   "cell_type": "markdown",
   "metadata": {},
   "source": [
    "_!!! Should I lowercase? !!!_"
   ]
  },
  {
   "cell_type": "code",
   "execution_count": 3,
   "metadata": {},
   "outputs": [],
   "source": [
    "import fileinput\n",
    "filename=os.path.join(os.path.abspath(''), 'brown-uk','corpus','final_all_GS_tagged_words_symbols_sentences.txt')\n",
    "for line in fileinput.FileInput(filename, inplace=1):\n",
    "        #line='<s>'+line\n",
    "        line=line.replace(\"|\",\" \")#.lower()\n",
    "        line=line.replace(\"\\n\",\"\")\n",
    "        line=line.replace(r\"\\n\",\"\")\n",
    "        line=line.replace(\"_foreign_\",\" _foreign_ \")\n",
    "        #line=line.replace(\"BEGIN_TEXT\",\"\")\n",
    "        #line=line.replace(\"END_TEXT\",\"\")\n",
    "        #line=line.replace(\"\\n\",\"</s>\")\n",
    "        #line=line.replace(r\"<s>\\n\",\"BEGIN <s>\")\n",
    "        #line=line.replace(\"<s></s>\",\"\")\n",
    "        #line=line.replace(r\"\\n </s>\",\"</s> END\")\n",
    "        #line=line.replace(\"<s>\",\"\")\n",
    "        print (line)\n",
    "#for line in fileinput.FileInput(filename, inplace=1):\n",
    "        #line=line.replace(\"\\n\",\"\")\n",
    "        #print (line)"
   ]
  },
  {
   "cell_type": "markdown",
   "metadata": {},
   "source": [
    "Example result file: (+lowercase)\n",
    "\n",
    "    У   2013   році ,   до   100-річчя   виходу   першого   числа   журналу   _FOREIGN_ ,   на   будинку   встановили   меморіальну   дошку .   \n",
    "    Тоді   ж   таки   в   будинку   відбувся   перший   з'їзд   есперантистів ,   на   якому   було   50   есперантистів   з   усієї   України   і   троє   з-за   кордону .   \n",
    "    Відтоді   щороку   вони   там   організовують   конференції ,   починаючи   з   2013-го .   \n",
    "    Щороку   там   вручають   премію   тим ,   хто   пропаґує   український   есперантський   рух   та   український   погляд   на   важливі   події .  \n",
    "    _FOREIGN_  Більшість   дописів   на   сторінці   Сергія   Шматкова   у   соціальній   мережі   _FOREIGN_   —   мовою   есперанто .  \n",
    "    « У   мене   у   _FOREIGN_   понад   дві   тисячі   друзів   з   усього   світу ,   з   якими   я   спілкуюсь   мовою   есперанто » ,   —   розповідає   пан   Сергій .  \n",
    "    Цю   незвичну   для   багатьох   мову   Сергій   Шматков   вивчив   ще   у   1980-х .   \n",
    "    Народився   і   прожив   чоловік   усе   життя   в   Донецькій   області ,   а   після   окупації   перебрався   до   Львова .  \n",
    "    \n",
    "### Number of sentences"
   ]
  },
  {
   "cell_type": "code",
   "execution_count": 4,
   "metadata": {},
   "outputs": [
    {
     "data": {
      "text/plain": [
       "39613"
      ]
     },
     "execution_count": 4,
     "metadata": {},
     "output_type": "execute_result"
    }
   ],
   "source": [
    "with open(\"brown-uk/corpus/final_all_GS_tagged_words_symbols_sentences.txt\", \"r\") as input:\n",
    "    summa=0\n",
    "    for line in input:\n",
    "        summa+=1\n",
    "summa"
   ]
  },
  {
   "cell_type": "markdown",
   "metadata": {},
   "source": [
    "## Estimating Large Language Models with KenLM\n",
    "\n",
    "Tokenized and splitted into sentences __[Ukrainian Brown Corpus](https://github.com/brown-uk/corpu)__ (good and so-so datasets) is provided on stdin and the __ARPA__ is written to stdout.\n",
    "\n",
    "#### kenlm/build/bin/lmplz -o -S -T    \n",
    "        -o\n",
    "            Required. Order of the language model to estimate.\n",
    "        -S\n",
    "            Recommended. Memory to use. This is a number followed by single-character suffix: % for percentage of physical memory (on platforms where this is measured), b for bytes, K for kilobytes, M for megabytes, and so on for G and T. If no suffix is given, kilobytes are assumed for compatability with GNU sort. The sort program is not used; the command line is simply designed to be compatible.\n",
    "        -T\n",
    "            Recommended. Temporary file location.\n",
    "\n",
    "Here 3-gram, 4-gram, 5-gram and 6-gram models are estimated by kenlm library and saved into the propriate ARPA files.\n",
    "            "
   ]
  },
  {
   "cell_type": "code",
   "execution_count": 5,
   "metadata": {},
   "outputs": [
    {
     "name": "stdout",
     "output_type": "stream",
     "text": [
      "=== 1/5 Counting and sorting n-grams ===\n",
      "Reading /home/ana/Downloads/master diploma/code/brown-uk/corpus/final_all_GS_tagged_words_symbols_sentences.txt\n",
      "----5---10---15---20---25---30---35---40---45---50---55---60---65---70---75---80---85---90---95--100\n",
      "****************************************************************************************************\n",
      "Unigram tokens 732089 types 103347\n",
      "=== 2/5 Calculating and sorting adjusted counts ===\n",
      "Chain sizes: 1:1240164 2:580684032 3:1088782592\n",
      "Statistics:\n",
      "1 103347 D1=0.669311 D2=1.10758 D3+=1.48587\n",
      "2 449944 D1=0.856159 D2=1.22555 D3+=1.45964\n",
      "3 635398 D1=0.923246 D2=1.35143 D3+=1.41611\n",
      "Memory estimate for binary LM:\n",
      "type       kB\n",
      "probing 24338 assuming -p 1.5\n",
      "probing 27378 assuming -r models -p 1.5\n",
      "trie    11637 without quantization\n",
      "trie     7275 assuming -q 8 -b 8 quantization \n",
      "trie    10946 assuming -a 22 array pointer compression\n",
      "trie     6583 assuming -a 22 -q 8 -b 8 array pointer compression and quantization\n",
      "=== 3/5 Calculating and sorting initial probabilities ===\n",
      "Chain sizes: 1:1240164 2:7199104 3:12707960\n",
      "----5---10---15---20---25---30---35---40---45---50---55---60---65---70---75---80---85---90---95--100\n",
      "####################################################################################################\n",
      "=== 4/5 Calculating and writing order-interpolated probabilities ===\n",
      "Chain sizes: 1:1240164 2:7199104 3:12707960\n",
      "----5---10---15---20---25---30---35---40---45---50---55---60---65---70---75---80---85---90---95--100\n",
      "####################################################################################################\n",
      "=== 5/5 Writing ARPA model ===\n",
      "----5---10---15---20---25---30---35---40---45---50---55---60---65---70---75---80---85---90---95--100\n",
      "****************************************************************************************************\n",
      "Name:lmplz\tVmPeak:1823104 kB\tVmRSS:28756 kB\tRSSMax:412892 kB\tuser:1.46227\tsys:0.437091\tCPU:1.8994\treal:2.24344\n",
      "=== 1/5 Counting and sorting n-grams ===\n",
      "Reading /home/ana/Downloads/master diploma/code/brown-uk/corpus/final_all_GS_tagged_words_symbols_sentences.txt\n",
      "----5---10---15---20---25---30---35---40---45---50---55---60---65---70---75---80---85---90---95--100\n",
      "****************************************************************************************************\n",
      "Unigram tokens 732089 types 103347\n",
      "=== 2/5 Calculating and sorting adjusted counts ===\n",
      "Chain sizes: 1:1240164 2:284164512 3:532808480 4:852493568\n",
      "Statistics:\n",
      "1 103347 D1=0.669311 D2=1.10758 D3+=1.48587\n",
      "2 449944 D1=0.856159 D2=1.22555 D3+=1.45964\n",
      "3 635398 D1=0.943326 D2=1.30061 D3+=1.38837\n",
      "4 666767 D1=0.964372 D2=1.56499 D3+=1.56917\n",
      "Memory estimate for binary LM:\n",
      "type       kB\n",
      "probing 39782 assuming -p 1.5\n",
      "probing 46545 assuming -r models -p 1.5\n",
      "trie    19577 without quantization\n",
      "trie    11483 assuming -q 8 -b 8 quantization \n",
      "trie    17882 assuming -a 22 array pointer compression\n",
      "trie     9788 assuming -a 22 -q 8 -b 8 array pointer compression and quantization\n",
      "=== 3/5 Calculating and sorting initial probabilities ===\n",
      "Chain sizes: 1:1240164 2:7199104 3:12707960 4:16002408\n",
      "----5---10---15---20---25---30---35---40---45---50---55---60---65---70---75---80---85---90---95--100\n",
      "####################################################################################################\n",
      "=== 4/5 Calculating and writing order-interpolated probabilities ===\n",
      "Chain sizes: 1:1240164 2:7199104 3:12707960 4:16002408\n",
      "----5---10---15---20---25---30---35---40---45---50---55---60---65---70---75---80---85---90---95--100\n",
      "####################################################################################################\n",
      "=== 5/5 Writing ARPA model ===\n",
      "----5---10---15---20---25---30---35---40---45---50---55---60---65---70---75---80---85---90---95--100\n",
      "****************************************************************************************************\n",
      "Name:lmplz\tVmPeak:1823100 kB\tVmRSS:9476 kB\tRSSMax:367812 kB\tuser:2.24183\tsys:0.552508\tCPU:2.79439\treal:3.71308\n",
      "=== 1/5 Counting and sorting n-grams ===\n",
      "Reading /home/ana/Downloads/master diploma/code/brown-uk/corpus/final_all_GS_tagged_words_symbols_sentences.txt\n",
      "----5---10---15---20---25---30---35---40---45---50---55---60---65---70---75---80---85---90---95--100\n",
      "****************************************************************************************************\n",
      "Unigram tokens 732089 types 103347\n",
      "=== 2/5 Calculating and sorting adjusted counts ===\n",
      "Chain sizes: 1:1240164 2:162874784 3:305390240 4:488624352 5:712577216\n",
      "Statistics:\n",
      "1 103347 D1=0.669311 D2=1.10758 D3+=1.48587\n",
      "2 449944 D1=0.856159 D2=1.22555 D3+=1.45964\n",
      "3 635398 D1=0.943326 D2=1.30061 D3+=1.38837\n",
      "4 666767 D1=0.979946 D2=1.46934 D3+=1.63211\n",
      "5 642688 D1=0.979447 D2=1.73757 D3+=1.53165\n",
      "Memory estimate for binary LM:\n",
      "type    MB\n",
      "probing 53 assuming -p 1.5\n",
      "probing 64 assuming -r models -p 1.5\n",
      "trie    26 without quantization\n",
      "trie    15 assuming -q 8 -b 8 quantization \n",
      "trie    24 assuming -a 22 array pointer compression\n",
      "trie    12 assuming -a 22 -q 8 -b 8 array pointer compression and quantization\n",
      "=== 3/5 Calculating and sorting initial probabilities ===\n",
      "Chain sizes: 1:1240164 2:7199104 3:12707960 4:16002408 5:17995264\n",
      "----5---10---15---20---25---30---35---40---45---50---55---60---65---70---75---80---85---90---95--100\n",
      "####################################################################################################\n",
      "=== 4/5 Calculating and writing order-interpolated probabilities ===\n",
      "Chain sizes: 1:1240164 2:7199104 3:12707960 4:16002408 5:17995264\n",
      "----5---10---15---20---25---30---35---40---45---50---55---60---65---70---75---80---85---90---95--100\n",
      "####################################################################################################\n",
      "=== 5/5 Writing ARPA model ===\n",
      "----5---10---15---20---25---30---35---40---45---50---55---60---65---70---75---80---85---90---95--100\n",
      "****************************************************************************************************\n",
      "Name:lmplz\tVmPeak:1830312 kB\tVmRSS:9756 kB\tRSSMax:332916 kB\tuser:2.99863\tsys:0.771301\tCPU:3.76998\treal:3.97436\n",
      "=== 1/5 Counting and sorting n-grams ===\n",
      "Reading /home/ana/Downloads/master diploma/code/brown-uk/corpus/final_all_GS_tagged_words_symbols_sentences.txt\n",
      "----5---10---15---20---25---30---35---40---45---50---55---60---65---70---75---80---85---90---95--100\n",
      "****************************************************************************************************\n",
      "Unigram tokens 732089 types 103347\n",
      "=== 2/5 Calculating and sorting adjusted counts ===\n",
      "Chain sizes: 1:1240164 2:102736408 3:192630768 4:308209216 5:449471808 6:616418432\n",
      "Statistics:\n",
      "1 103347 D1=0.669311 D2=1.10758 D3+=1.48587\n",
      "2 449944 D1=0.856159 D2=1.22555 D3+=1.45964\n",
      "3 635398 D1=0.943326 D2=1.30061 D3+=1.38837\n",
      "4 666767 D1=0.979946 D2=1.46934 D3+=1.63211\n",
      "5 642688 D1=0.992915 D2=1.589 D3+=1.72655\n",
      "6 607837 D1=0.984337 D2=1.82937 D3+=1.49329\n",
      "Memory estimate for binary LM:\n",
      "type    MB\n",
      "probing 67 assuming -p 1.5\n",
      "probing 81 assuming -r models -p 1.5\n",
      "trie    34 without quantization\n",
      "trie    19 assuming -q 8 -b 8 quantization \n",
      "trie    30 assuming -a 22 array pointer compression\n",
      "trie    15 assuming -a 22 -q 8 -b 8 array pointer compression and quantization\n",
      "=== 3/5 Calculating and sorting initial probabilities ===\n",
      "Chain sizes: 1:1240164 2:7199104 3:12707960 4:16002408 5:17995264 6:19450784\n",
      "----5---10---15---20---25---30---35---40---45---50---55---60---65---70---75---80---85---90---95--100\n",
      "####################################################################################################\n",
      "=== 4/5 Calculating and writing order-interpolated probabilities ===\n",
      "Chain sizes: 1:1240164 2:7199104 3:12707960 4:16002408 5:17995264 6:19450784\n",
      "----5---10---15---20---25---30---35---40---45---50---55---60---65---70---75---80---85---90---95--100\n",
      "####################################################################################################\n",
      "=== 5/5 Writing ARPA model ===\n",
      "----5---10---15---20---25---30---35---40---45---50---55---60---65---70---75---80---85---90---95--100\n",
      "****************************************************************************************************\n",
      "Name:lmplz\tVmPeak:1846700 kB\tVmRSS:9720 kB\tRSSMax:305996 kB\tuser:3.80115\tsys:0.995254\tCPU:4.79645\treal:6.92045\n"
     ]
    }
   ],
   "source": [
    "!kenlm/build/bin/lmplz -o 3 -S 10% <brown-uk/corpus/final_all_GS_tagged_words_symbols_sentences.txt> brown-uk/corpus/kenlm/final_all_GS_tagged_words_symbols_sentences_based_3.arpa\n",
    "!kenlm/build/bin/lmplz -o 4 -S 10% <brown-uk/corpus/final_all_GS_tagged_words_symbols_sentences.txt> brown-uk/corpus/kenlm/final_all_GS_tagged_words_symbols_sentences_based_4.arpa\n",
    "!kenlm/build/bin/lmplz -o 5 -S 10% <brown-uk/corpus/final_all_GS_tagged_words_symbols_sentences.txt> brown-uk/corpus/kenlm/final_all_GS_tagged_words_symbols_sentences_based_5.arpa\n",
    "!kenlm/build/bin/lmplz -o 6 -S 10% <brown-uk/corpus/final_all_GS_tagged_words_symbols_sentences.txt> brown-uk/corpus/kenlm/final_all_GS_tagged_words_symbols_sentences_based_6.arpa"
   ]
  },
  {
   "cell_type": "code",
   "execution_count": 4,
   "metadata": {},
   "outputs": [],
   "source": [
    "LM3 = os.path.join(os.path.abspath(''), 'brown-uk', 'corpus', 'kenlm', 'final_all_GS_tagged_words_symbols_sentences_based_3.arpa')\n",
    "LM4 = os.path.join(os.path.abspath(''), 'brown-uk', 'corpus', 'kenlm', 'final_all_GS_tagged_words_symbols_sentences_based_4.arpa')\n",
    "LM5 = os.path.join(os.path.abspath(''), 'brown-uk', 'corpus', 'kenlm', 'final_all_GS_tagged_words_symbols_sentences_based_5.arpa')\n",
    "LM6 = os.path.join(os.path.abspath(''), 'brown-uk', 'corpus', 'kenlm', 'final_all_GS_tagged_words_symbols_sentences_based_6.arpa')"
   ]
  },
  {
   "cell_type": "code",
   "execution_count": 5,
   "metadata": {},
   "outputs": [],
   "source": [
    "model3 = kenlm.LanguageModel(LM3)\n",
    "model4 = kenlm.LanguageModel(LM4)\n",
    "model5 = kenlm.LanguageModel(LM5)\n",
    "model6 = kenlm.LanguageModel(LM6)"
   ]
  },
  {
   "cell_type": "markdown",
   "metadata": {},
   "source": [
    "### Sentences scores\n",
    "\n",
    "#### model.score(self, sentence, bos = True, eos = True)\n",
    "\n",
    "Return the __log10 probability of a string__.  By default, the string is treated as a sentence.  \n",
    "          \n",
    "          return log10 p(sentence </s> | <s>)\n",
    "\n",
    "If you do not want to condition on the beginning of sentence, pass __bos = False__ . Never include $<s>$ as part of the string. \n",
    "\n",
    "Similarly, the end of sentence token $</s>$ can be omitted with __eos = False__. Since language models explicitly predict $</s>$, it can be part of the string.\n",
    "\n",
    "\n",
    "I do not use bos or eos = False, so the method calculates scores of those strings to be sentences."
   ]
  },
  {
   "cell_type": "code",
   "execution_count": 17,
   "metadata": {},
   "outputs": [
    {
     "name": "stdout",
     "output_type": "stream",
     "text": [
      "Штучний інтелект врятує світ .\n",
      "3-gram model\n",
      "-19.345046997070312\n",
      "4-gram model\n",
      "-19.335840225219727\n",
      "5-gram model\n",
      "-19.335840225219727\n",
      "6-gram model\n",
      "-19.335840225219727\n"
     ]
    }
   ],
   "source": [
    "sentence1 = 'Штучний інтелект врятує світ .'\n",
    "print(sentence1)\n",
    "print('{0}-gram model'.format(model3.order))\n",
    "print(model3.score(sentence1))\n",
    "print('{0}-gram model'.format(model4.order))\n",
    "print(model4.score(sentence1))\n",
    "print('{0}-gram model'.format(model5.order))\n",
    "print(model5.score(sentence1))\n",
    "print('{0}-gram model'.format(model6.order))\n",
    "print(model6.score(sentence1))"
   ]
  },
  {
   "cell_type": "code",
   "execution_count": 18,
   "metadata": {},
   "outputs": [
    {
     "name": "stdout",
     "output_type": "stream",
     "text": [
      "_#foreign_ врятує світ .\n",
      "3-gram model\n",
      "-11.154338836669922\n",
      "4-gram model\n",
      "-11.141000747680664\n",
      "5-gram model\n",
      "-11.141000747680664\n",
      "6-gram model\n",
      "-11.141000747680664\n"
     ]
    }
   ],
   "source": [
    "sentence2 = '_#foreign_ врятує світ .'\n",
    "print(sentence2)\n",
    "print('{0}-gram model'.format(model3.order))\n",
    "print(model3.score(sentence2))\n",
    "print('{0}-gram model'.format(model4.order))\n",
    "print(model4.score(sentence2))\n",
    "print('{0}-gram model'.format(model5.order))\n",
    "print(model5.score(sentence2))\n",
    "print('{0}-gram model'.format(model6.order))\n",
    "print(model6.score(sentence2))"
   ]
  },
  {
   "cell_type": "code",
   "execution_count": 19,
   "metadata": {},
   "outputs": [
    {
     "name": "stdout",
     "output_type": "stream",
     "text": [
      "Наука врятує світ .\n",
      "3-gram model\n",
      "-12.354094505310059\n",
      "4-gram model\n",
      "-12.335543632507324\n",
      "5-gram model\n",
      "-12.335543632507324\n",
      "6-gram model\n",
      "-12.335543632507324\n"
     ]
    }
   ],
   "source": [
    "sentence3 = 'Наука врятує світ .'\n",
    "print(sentence3)\n",
    "print('{0}-gram model'.format(model3.order))\n",
    "print(model3.score(sentence3))\n",
    "print('{0}-gram model'.format(model4.order))\n",
    "print(model4.score(sentence3))\n",
    "print('{0}-gram model'.format(model5.order))\n",
    "print(model5.score(sentence3))\n",
    "print('{0}-gram model'.format(model6.order))\n",
    "print(model6.score(sentence3))"
   ]
  },
  {
   "cell_type": "code",
   "execution_count": 20,
   "metadata": {},
   "outputs": [
    {
     "name": "stdout",
     "output_type": "stream",
     "text": [
      "Краса врятує світ .\n",
      "3-gram model\n",
      "-13.028851509094238\n",
      "4-gram model\n",
      "-13.010300636291504\n",
      "5-gram model\n",
      "-13.010300636291504\n",
      "6-gram model\n",
      "-13.010300636291504\n"
     ]
    }
   ],
   "source": [
    "sentence4 = 'Краса врятує світ .'\n",
    "print(sentence4)\n",
    "print('{0}-gram model'.format(model3.order))\n",
    "print(model3.score(sentence4))\n",
    "print('{0}-gram model'.format(model4.order))\n",
    "print(model4.score(sentence4))\n",
    "print('{0}-gram model'.format(model5.order))\n",
    "print(model5.score(sentence4))\n",
    "print('{0}-gram model'.format(model6.order))\n",
    "print(model6.score(sentence4))"
   ]
  },
  {
   "cell_type": "markdown",
   "metadata": {},
   "source": [
    "#### Check that total full score = direct score"
   ]
  },
  {
   "cell_type": "code",
   "execution_count": 21,
   "metadata": {},
   "outputs": [],
   "source": [
    "def score(model,s):\n",
    "    return sum(prob for prob, _, _ in model.full_scores(s))"
   ]
  },
  {
   "cell_type": "code",
   "execution_count": 22,
   "metadata": {},
   "outputs": [],
   "source": [
    "assert (abs(score(model6, sentence1) - model6.score(sentence1)) < 1e-3)\n",
    "assert (abs(score(model6, sentence2) - model6.score(sentence2)) < 1e-3)\n",
    "assert (abs(score(model6, sentence3) - model6.score(sentence3)) < 1e-3)\n",
    "assert (abs(score(model6, sentence4) - model6.score(sentence4)) < 1e-3)"
   ]
  },
  {
   "cell_type": "markdown",
   "metadata": {},
   "source": [
    "#### Show scores and n-gram matches"
   ]
  },
  {
   "cell_type": "code",
   "execution_count": 25,
   "metadata": {},
   "outputs": [
    {
     "name": "stdout",
     "output_type": "stream",
     "text": [
      "-5.369656085968018 2: <s> Штучний\n",
      "-5.358176231384277 1: інтелект\n",
      "-1.317441701889038 2: інтелект врятує\n",
      "-0.9645605683326721 2: врятує світ\n",
      "-0.0004651869530789554 3: врятує світ .\n"
     ]
    }
   ],
   "source": [
    "words = ['<s>'] + sentence1.split() + ['</s>']\n",
    "for i, (prob, length, oov) in enumerate(model6.full_scores(sentence4)):\n",
    "    print('{0} {1}: {2}'.format(prob, length, ' '.join(words[i+2-length:i+2])))\n",
    "    if oov:\n",
    "        print('\\t\"{0}\" is an OOV'.format(words[i+1]))"
   ]
  },
  {
   "cell_type": "markdown",
   "metadata": {},
   "source": [
    "__________________________________________\n",
    "\n",
    "    -4.6759634\tкраса\t-0.26173612\n",
    "    -1.8974496\tкраса врятує\t-0.026417483\n",
    "    -0.97120434\tкраса врятує світ\t-0.00874679\n",
    "    -4.032551\t</s>\t0\n",
    "\n",
    "\n",
    "\n",
    "Чому n-gramm які закінчуютьмя на $</s>$ завжди друга цифра нуль. Виходить нема залежності між реченнями. Як на мене це не ок."
   ]
  },
  {
   "cell_type": "markdown",
   "metadata": {},
   "source": [
    "#### Calculating the perplexity of the sentence"
   ]
  },
  {
   "cell_type": "code",
   "execution_count": 26,
   "metadata": {},
   "outputs": [],
   "source": [
    "def perplexity(model, sentence, bos=True, eos=True):\n",
    "    \"\"\"\n",
    "    Compute perplexity of a sentence.\n",
    "    @param sentence One full sentence to score.  Do not include <s> or </s>.\n",
    "    \"\"\"\n",
    "    words = len(str(sentence).split()) + 1 # For </s>\n",
    "    return 10.0**(-model.score(sentence, bos=bos, eos=eos) / words)"
   ]
  },
  {
   "cell_type": "code",
   "execution_count": 27,
   "metadata": {},
   "outputs": [
    {
     "name": "stdout",
     "output_type": "stream",
     "text": [
      "400.0001251964878\n"
     ]
    }
   ],
   "source": [
    "print(perplexity(model6, sentence4))"
   ]
  },
  {
   "cell_type": "code",
   "execution_count": 28,
   "metadata": {},
   "outputs": [
    {
     "name": "stdout",
     "output_type": "stream",
     "text": [
      "400.0001251964878\n"
     ]
    }
   ],
   "source": [
    "print(model6.perplexity(sentence4))"
   ]
  },
  {
   "cell_type": "markdown",
   "metadata": {},
   "source": [
    "#### Find out-of-vocabulary words"
   ]
  },
  {
   "cell_type": "code",
   "execution_count": 29,
   "metadata": {},
   "outputs": [
    {
     "name": "stdout",
     "output_type": "stream",
     "text": [
      "\"Штучний\" is an OOV\n"
     ]
    }
   ],
   "source": [
    "for w in words:\n",
    "    if not w in model6:\n",
    "        print('\"{0}\" is an OOV'.format(w))"
   ]
  },
  {
   "cell_type": "markdown",
   "metadata": {},
   "source": [
    "### Calculating the perplexity of the model on the Ukrainian brown corpus (good and so-so)\n",
    "\n",
    "_!!! keep in mind this is the same dataset I made my estimation ARPA models on !!!_"
   ]
  },
  {
   "cell_type": "code",
   "execution_count": 30,
   "metadata": {},
   "outputs": [],
   "source": [
    "filename=os.path.join(os.path.abspath(''), \n",
    "                      'brown-uk', 'corpus',\n",
    "                      'final_all_GS_tagged_words_symbols_sentences.txt')\n",
    "\n",
    "#read sentence by sentence\n",
    "temp = open(filename,'r').read().split('\\n')"
   ]
  },
  {
   "cell_type": "markdown",
   "metadata": {},
   "source": [
    "It is only sentence-based model and it estimates score for each sentence separately. The score is equal to the  log10 probability of the sentence. Then I sum up scores for all the sentences in the corpus, divide them by the number of the words in the corpus and take 10 to the power of the resulting fraction to calculate the __perplexity__ of my model."
   ]
  },
  {
   "cell_type": "code",
   "execution_count": 31,
   "metadata": {},
   "outputs": [],
   "source": [
    "def perplexity_on_texts_by_sentences(model, temp):\n",
    "    all_score=0\n",
    "    all_words=0\n",
    "    for sentence in temp:\n",
    "        all_score+=model.score(sentence, bos = False, eos = False)\n",
    "        all_words+=len(str(sentence).split())\n",
    "    print(\"all_score: \"+str(all_score)+\"; \\nnumber of tokens in text: \"+str(all_words))\n",
    "    return 10.0**(-all_score / all_words)"
   ]
  },
  {
   "cell_type": "code",
   "execution_count": 32,
   "metadata": {},
   "outputs": [
    {
     "name": "stdout",
     "output_type": "stream",
     "text": [
      "3-gram model\n",
      "all_score: -1062891.6325109005; \n",
      "number of tokens in text: 732044\n",
      "perplexity:  28.310691259369687\n",
      "\n",
      "4-gram model\n",
      "all_score: -935254.2013456821; \n",
      "number of tokens in text: 732044\n",
      "perplexity:  18.949287228877438\n",
      "\n",
      "5-gram model\n",
      "all_score: -912237.1490190029; \n",
      "number of tokens in text: 732044\n",
      "perplexity:  17.625875906382273\n",
      "\n",
      "6-gram model\n",
      "all_score: -908319.2384450436; \n",
      "number of tokens in text: 732044\n",
      "perplexity:  17.40999686988621\n",
      "\n"
     ]
    }
   ],
   "source": [
    "print('{0}-gram model'.format(model3.order))\n",
    "print('perplexity: ', str(perplexity_on_texts_by_sentences(model3,temp))+\"\\n\")\n",
    "print('{0}-gram model'.format(model4.order))\n",
    "print('perplexity: ',str(perplexity_on_texts_by_sentences(model4,temp))+\"\\n\")\n",
    "print('{0}-gram model'.format(model5.order))\n",
    "print('perplexity: ',str(perplexity_on_texts_by_sentences(model5,temp))+\"\\n\")\n",
    "print('{0}-gram model'.format(model6.order))\n",
    "print('perplexity: ',str(perplexity_on_texts_by_sentences(model6,temp))+\"\\n\")"
   ]
  },
  {
   "cell_type": "markdown",
   "metadata": {},
   "source": [
    "### Perplexity including BOS and EOS tags. Copied their function but rewriten to match text"
   ]
  },
  {
   "cell_type": "code",
   "execution_count": 33,
   "metadata": {},
   "outputs": [],
   "source": [
    "def perplexity_on_texts_by_sentences_boseos(model, temp):\n",
    "    all_score=0\n",
    "    all_words=0\n",
    "    for sentence in temp:\n",
    "        all_score+=model.score(sentence)\n",
    "        all_words+=len(str(sentence).split())+1\n",
    "    print(\"all_score: \"+str(all_score)+\"; \\nnumber of tokens in text: \"+str(all_words))\n",
    "    return 10.0**(-all_score / all_words)"
   ]
  },
  {
   "cell_type": "code",
   "execution_count": 34,
   "metadata": {},
   "outputs": [
    {
     "name": "stdout",
     "output_type": "stream",
     "text": [
      "3-gram model\n",
      "all_score: -981034.0454454422; \n",
      "number of tokens in text: 771658\n",
      "18.678099985577454\n",
      "\n",
      "4-gram model\n",
      "all_score: -847061.5530700684; \n",
      "number of tokens in text: 771658\n",
      "12.523227928866882\n",
      "\n",
      "5-gram model\n",
      "all_score: -821626.6746518612; \n",
      "number of tokens in text: 771658\n",
      "11.607934511597323\n",
      "\n",
      "6-gram model\n",
      "all_score: -816845.5673232079; \n",
      "number of tokens in text: 771658\n",
      "11.4435049092108\n",
      "\n"
     ]
    }
   ],
   "source": [
    "print('{0}-gram model'.format(model3.order))\n",
    "print(str(perplexity_on_texts_by_sentences_boseos(model3,temp))+\"\\n\")\n",
    "print('{0}-gram model'.format(model4.order))\n",
    "print(str(perplexity_on_texts_by_sentences_boseos(model4,temp))+\"\\n\")\n",
    "print('{0}-gram model'.format(model5.order))\n",
    "print(str(perplexity_on_texts_by_sentences_boseos(model5,temp))+\"\\n\")\n",
    "print('{0}-gram model'.format(model6.order))\n",
    "print(str(perplexity_on_texts_by_sentences_boseos(model6,temp))+\"\\n\")"
   ]
  },
  {
   "cell_type": "code",
   "execution_count": null,
   "metadata": {},
   "outputs": [],
   "source": []
  },
  {
   "cell_type": "code",
   "execution_count": null,
   "metadata": {},
   "outputs": [],
   "source": []
  },
  {
   "cell_type": "code",
   "execution_count": null,
   "metadata": {},
   "outputs": [],
   "source": []
  }
 ],
 "metadata": {
  "kernelspec": {
   "display_name": "Python 3",
   "language": "python",
   "name": "python3"
  },
  "language_info": {
   "codemirror_mode": {
    "name": "ipython",
    "version": 3
   },
   "file_extension": ".py",
   "mimetype": "text/x-python",
   "name": "python",
   "nbconvert_exporter": "python",
   "pygments_lexer": "ipython3",
   "version": "3.6.8"
  }
 },
 "nbformat": 4,
 "nbformat_minor": 2
}
