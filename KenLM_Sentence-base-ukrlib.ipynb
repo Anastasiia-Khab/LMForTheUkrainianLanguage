{
 "cells": [
  {
   "cell_type": "markdown",
   "metadata": {},
   "source": [
    "# KenLM Sentence-base\n",
    "\n",
    "#### based on:\n",
    "\n",
    "https://kheafield.com/papers/avenue/kenlm.pdf \n",
    "\n",
    "https://kheafield.com/papers/edinburgh/estimate_paper.pdf\n",
    "\n",
    "#### implementation of the estimation part:\n",
    "\n",
    "https://kheafield.com/code/kenlm/\n",
    "\n",
    "Language models are estimated from text using __[modified](http://www.ee.columbia.edu/~stanchen/papers/h015a-techreport.pdf)__ [Kneser-Ney smoothing](https://ieeexplore.ieee.org/document/479394) without pruning. It is done on disk, enabling one to build much larger models. Kneser-Ney smothng consistently outperforms all other n-grams models with smothing evaluated in this [techreport](http://www.ee.columbia.edu/~stanchen/papers/h015a-techreport.pdf) by Chen and Goodman.\n",
    "\n",
    "In this notebook I am splitting and tokenizing __[Ukrainian Brown Corpus](https://github.com/brown-uk/corpu)__ (good and so-so datasets) into sentences including symbols. Then I use KenLM scripts to estimate ARPA n-gram sentense-based models. KenLM script __lmplz__ by default uses $<s>$ and $</s>$ tags at the beginning and end of each sentence. \n",
    "\n",
    "It is only sentence-based model and it estimates score for each sentence separately. The score is equal to the  log10 probability of the sentence. Then I sum up scores for all the sentences in the corpus, divide them by the number of the words in the corpus and take 10 to the power of the resulting fraction to calculate the __perplexity__ of my model.\n",
    "\n",
    "## Installing KenLM"
   ]
  },
  {
   "cell_type": "code",
   "execution_count": 1,
   "metadata": {},
   "outputs": [],
   "source": [
    "import os\n",
    "import kenlm"
   ]
  },
  {
   "cell_type": "markdown",
   "metadata": {},
   "source": [
    "    ---# sudo apt-get install build-essential libboost-all-dev cmake zlib1g-dev libbz2-dev liblzma-dev \n",
    "    \n",
    "    ---# wget -O - https://kheafield.com/code/kenlm.tar.gz |tar xz\n",
    "         mkdir -p build && cd build\n",
    "         cmake ..\n",
    "         make -j 4\n",
    "         \n",
    "## Tokenize text\n",
    "         \n",
    "Here the __[Ukrainian Brown Corpus](https://github.com/brown-uk/corpu)__ (good and so-so datasets) is splitted into sentences including symbols.\n",
    "         \n",
    "#### [TokenizeText.groovy](https://github.com/brown-uk/nlp_uk/blob/master/src/main/groovy/org/nlp_uk/tools/README.md)\n",
    "\n",
    "\n",
    "Аналізує текст і записує результат у виходовий файл:\n",
    "\n",
    "        розбиває на речення (-s)\n",
    "        розбиває на токени (-w) (результати включають пунктуацію тому всі токени розділяються вертикальними рисками)\n",
    "        розбиває на слова (-u)\n"
   ]
  },
  {
   "cell_type": "code",
   "execution_count": 1,
   "metadata": {},
   "outputs": [
    {
     "name": "stdout",
     "output_type": "stream",
     "text": [
      "WARNING: An illegal reflective access operation has occurred\n",
      "WARNING: Illegal reflective access by org.codehaus.groovy.vmplugin.v7.Java7$1 (file:/snap/groovy/17/lib/groovy-2.5.8.jar) to constructor java.lang.invoke.MethodHandles$Lookup(java.lang.Class,int)\n",
      "WARNING: Please consider reporting this to the maintainers of org.codehaus.groovy.vmplugin.v7.Java7$1\n",
      "WARNING: Use --illegal-access=warn to enable warnings of further illegal reflective access operations\n",
      "WARNING: All illegal access operations will be denied in a future release\n",
      "writing into final/ukrlib_final_symbols_sentences.txt\n"
     ]
    }
   ],
   "source": [
    "!groovy nlp_uk/nlp_uk/src/main/groovy/org/nlp_uk/tools/TokenizeText.groovy -s -w -i final/ukrlib_final.txt -o final/ukrlib_final_symbols_sentences.txt    "
   ]
  },
  {
   "cell_type": "markdown",
   "metadata": {},
   "source": [
    "_!!! Should I lowercase? !!!_\n",
    "\n",
    "Not lowercased"
   ]
  },
  {
   "cell_type": "code",
   "execution_count": 4,
   "metadata": {},
   "outputs": [],
   "source": [
    "import fileinput\n",
    "filename=os.path.join(os.path.abspath(''), 'final','ukrlib_final_symbols_sentences.txt')\n",
    "for line in fileinput.FileInput(filename, inplace=1):\n",
    "        #line='<s>'+line\n",
    "        line=line.replace(\"|\",\" \")#.lower()\n",
    "        line=line.replace(\"\\n\",\"\")\n",
    "        line=line.replace(r\"\\n\",\"\")\n",
    "        line=line.replace(\"_foreign_\",\" _foreign_ \")\n",
    "        #line=line.replace(\"BEGIN_TEXT\",\"\")\n",
    "        #line=line.replace(\"END_TEXT\",\"\")\n",
    "        #line=line.replace(\"\\n\",\"</s>\")\n",
    "        #line=line.replace(r\"<s>\\n\",\"BEGIN <s>\")\n",
    "        #line=line.replace(\"<s></s>\",\"\")\n",
    "        #line=line.replace(r\"\\n </s>\",\"</s> END\")\n",
    "        #line=line.replace(\"<s>\",\"\")\n",
    "        print (line)\n",
    "#for line in fileinput.FileInput(filename, inplace=1):\n",
    "        #line=line.replace(\"\\n\",\"\")\n",
    "        #print (line)"
   ]
  },
  {
   "cell_type": "markdown",
   "metadata": {},
   "source": [
    "Example result file: (+lowercase)\n",
    "\n",
    "    У   2013   році ,   до   100-річчя   виходу   першого   числа   журналу   _FOREIGN_ ,   на   будинку   встановили   меморіальну   дошку .   \n",
    "    Тоді   ж   таки   в   будинку   відбувся   перший   з'їзд   есперантистів ,   на   якому   було   50   есперантистів   з   усієї   України   і   троє   з-за   кордону .   \n",
    "    Відтоді   щороку   вони   там   організовують   конференції ,   починаючи   з   2013-го .   \n",
    "    Щороку   там   вручають   премію   тим ,   хто   пропаґує   український   есперантський   рух   та   український   погляд   на   важливі   події .  \n",
    "    _FOREIGN_  Більшість   дописів   на   сторінці   Сергія   Шматкова   у   соціальній   мережі   _FOREIGN_   —   мовою   есперанто .  \n",
    "    « У   мене   у   _FOREIGN_   понад   дві   тисячі   друзів   з   усього   світу ,   з   якими   я   спілкуюсь   мовою   есперанто » ,   —   розповідає   пан   Сергій .  \n",
    "    Цю   незвичну   для   багатьох   мову   Сергій   Шматков   вивчив   ще   у   1980-х .   \n",
    "    Народився   і   прожив   чоловік   усе   життя   в   Донецькій   області ,   а   після   окупації   перебрався   до   Львова .  \n",
    "    \n",
    "    \n",
    "#### Number of sentences"
   ]
  },
  {
   "cell_type": "code",
   "execution_count": 5,
   "metadata": {},
   "outputs": [],
   "source": [
    "with open(\"final/ukrlib_final_symbols_sentences.txt\", \"r\") as input:\n",
    "    summa=0\n",
    "    for line in input:\n",
    "        summa+=1"
   ]
  },
  {
   "cell_type": "code",
   "execution_count": 6,
   "metadata": {},
   "outputs": [
    {
     "data": {
      "text/plain": [
       "5746840"
      ]
     },
     "execution_count": 6,
     "metadata": {},
     "output_type": "execute_result"
    }
   ],
   "source": [
    "summa"
   ]
  },
  {
   "cell_type": "markdown",
   "metadata": {},
   "source": [
    "## Estimating Large Language Models with KenLM\n",
    "\n",
    "Tokenized and splitted into sentences __[Ukrainian Brown Corpus](https://github.com/brown-uk/corpu)__ (good and so-so datasets) is provided on stdin and the __ARPA__ is written to stdout.\n",
    "\n",
    "#### kenlm/build/bin/lmplz -o -S -T    \n",
    "        -o\n",
    "            Required. Order of the language model to estimate.\n",
    "        -S\n",
    "            Recommended. Memory to use. This is a number followed by single-character suffix: % for percentage of physical memory (on platforms where this is measured), b for bytes, K for kilobytes, M for megabytes, and so on for G and T. If no suffix is given, kilobytes are assumed for compatability with GNU sort. The sort program is not used; the command line is simply designed to be compatible.\n",
    "        -T\n",
    "            Recommended. Temporary file location.\n",
    "\n",
    "Here 3-gram, 4-gram, 5-gram and 6-gram models are estimated by kenlm library and saved into the propriate ARPA files.\n",
    "            "
   ]
  },
  {
   "cell_type": "code",
   "execution_count": 8,
   "metadata": {},
   "outputs": [
    {
     "name": "stdout",
     "output_type": "stream",
     "text": [
      "=== 1/5 Counting and sorting n-grams ===\n",
      "Reading /home/ana/Downloads/master diploma/code/final/ukrlib_final_symbols_sentences.txt\n",
      "----5---10---15---20---25---30---35---40---45---50---55---60---65---70---75---80---85---90---95--100\n",
      "****************************************************************************************************\n",
      "Unigram tokens 78999442 types 1553865\n",
      "=== 2/5 Calculating and sorting adjusted counts ===\n",
      "Chain sizes: 1:18646380 2:527945280 3:989897472\n",
      "Statistics:\n",
      "1 1553865 D1=0.676167 D2=1.01699 D3+=1.3515\n",
      "2 18397852 D1=0.799054 D2=1.10845 D3+=1.32954\n",
      "3 43460054 D1=0.810951 D2=1.38829 D3+=1.41947\n",
      "Memory estimate for binary LM:\n",
      "type      MB\n",
      "probing 1205 assuming -p 1.5\n",
      "probing 1316 assuming -r models -p 1.5\n",
      "trie     546 without quantization\n",
      "trie     323 assuming -q 8 -b 8 quantization \n",
      "trie     507 assuming -a 22 array pointer compression\n",
      "trie     284 assuming -a 22 -q 8 -b 8 array pointer compression and quantization\n",
      "=== 3/5 Calculating and sorting initial probabilities ===\n",
      "Chain sizes: 1:18646380 2:294365632 3:869201080\n",
      "----5---10---15---20---25---30---35---40---45---50---55---60---65---70---75---80---85---90---95--100\n",
      "####################################################################################################\n",
      "=== 4/5 Calculating and writing order-interpolated probabilities ===\n",
      "Chain sizes: 1:18646380 2:294365632 3:869201080\n",
      "----5---10---15---20---25---30---35---40---45---50---55---60---65---70---75---80---85---90---95--100\n",
      "####################################################################################################\n",
      "=== 5/5 Writing ARPA model ===\n",
      "----5---10---15---20---25---30---35---40---45---50---55---60---65---70---75---80---85---90---95--100\n",
      "****************************************************************************************************\n",
      "Name:lmplz\tVmPeak:1887616 kB\tVmRSS:52880 kB\tRSSMax:1329540 kB\tuser:93.1618\tsys:12.2021\tCPU:105.364\treal:104.894\n"
     ]
    }
   ],
   "source": [
    "!kenlm/build/bin/lmplz -o 3 -S 10% <final/ukrlib_final_symbols_sentences.txt> final/kenlm/ukrlib_final_symbols_sentences_based_3.arpa"
   ]
  },
  {
   "cell_type": "code",
   "execution_count": null,
   "metadata": {},
   "outputs": [],
   "source": [
    "!kenlm/build/bin/lmplz -o 4 -S 10% <final/ukrlib_final_symbols_sentences.txt> final/kenlm/ukrlib_final_symbols_sentences_based_4.arpa"
   ]
  },
  {
   "cell_type": "code",
   "execution_count": null,
   "metadata": {},
   "outputs": [],
   "source": [
    "!kenlm/build/bin/lmplz -o 5 -S 10% <final/ukrlib_final_symbols_sentences.txt> final/kenlm/ukrlib_final_symbols_sentences_based_5.arpa"
   ]
  },
  {
   "cell_type": "code",
   "execution_count": 7,
   "metadata": {},
   "outputs": [
    {
     "name": "stdout",
     "output_type": "stream",
     "text": [
      "=== 1/5 Counting and sorting n-grams ===\n",
      "Reading /home/ana/Downloads/master diploma/code/final/ukrlib_final_symbols_sentences.txt\n",
      "----5---10---15---20---25---30---35---40---45---50---55---60---65---70---75---80---85---90---95--100\n",
      "****************************************************************************************************\n",
      "Unigram tokens 78999442 types 1553865\n",
      "=== 2/5 Calculating and sorting adjusted counts ===\n",
      "Chain sizes: 1:18646380 2:50172556 3:94073544 4:150517680 5:219504944 6:301035360\n",
      "Statistics:\n",
      "1 1553865 D1=0.676167 D2=1.01699 D3+=1.3515\n",
      "2 18397852 D1=0.799054 D2=1.10845 D3+=1.32954\n",
      "3 43460054 D1=0.884098 D2=1.18897 D3+=1.33575\n",
      "4 58161810 D1=0.938092 D2=1.30631 D3+=1.38554\n",
      "5 60860373 D1=0.968972 D2=1.46989 D3+=1.44609\n",
      "6 58114299 D1=0.905692 D2=1.84295 D3+=1.69811\n",
      "Memory estimate for binary LM:\n",
      "type      MB\n",
      "probing 5176 assuming -p 1.5\n",
      "probing 6217 assuming -r models -p 1.5\n",
      "trie    2767 without quantization\n",
      "trie    1594 assuming -q 8 -b 8 quantization \n",
      "trie    2362 assuming -a 22 array pointer compression\n",
      "trie    1189 assuming -a 22 -q 8 -b 8 array pointer compression and quantization\n",
      "=== 3/5 Calculating and sorting initial probabilities ===\n",
      "Chain sizes: 1:18646380 2:70821440 3:132790200 4:212464320 5:309843808 6:424928640\n",
      "----5---10---15---20---25---30---35---40---45---50---55---60---65---70---75---80---85---90---95--100\n",
      "####################################################################################################\n",
      "=== 4/5 Calculating and writing order-interpolated probabilities ===\n",
      "Chain sizes: 1:6116150 2:16309735 3:30580754 4:48929204 5:71355096 6:97858408\n",
      "----5---10---15---20---25---30---35---40---45---50---55---60---65---70---75---80---85---90---95--100\n",
      "####################################################################################################\n",
      "=== 5/5 Writing ARPA model ===\n",
      "----5---10---15---20---25---30---35---40---45---50---55---60---65---70---75---80---85---90---95--100\n",
      "****************************************************************************************************\n",
      "Name:lmplz\tVmPeak:2373764 kB\tVmRSS:65536 kB\tRSSMax:1162756 kB\tuser:356.051\tsys:88.5087\tCPU:444.56\treal:669.241\n"
     ]
    }
   ],
   "source": [
    "!kenlm/build/bin/lmplz -o 6 -S 7% <final/ukrlib_final_symbols_sentences.txt> final/kenlm/ukrlib_final_symbols_sentences_based_6.arpa"
   ]
  },
  {
   "cell_type": "code",
   "execution_count": 2,
   "metadata": {},
   "outputs": [],
   "source": [
    "LM3 = os.path.join(os.path.abspath(''), 'final', 'kenlm', 'ukrlib_final_symbols_sentences_based_3.arpa')\n",
    "#LM4 = os.path.join(os.path.abspath(''), 'final', 'kenlm', 'ukrlib_final_symbols_sentences_based_4.arpa')\n",
    "#LM5 = os.path.join(os.path.abspath(''), 'final', 'kenlm', 'ukrlib_final_symbols_sentences_based_5.arpa')\n",
    "LM6 = os.path.join(os.path.abspath(''), 'final', 'kenlm', 'ukrlib_final_symbols_sentences_based_6.arpa')"
   ]
  },
  {
   "cell_type": "code",
   "execution_count": 3,
   "metadata": {},
   "outputs": [],
   "source": [
    "model3 = kenlm.LanguageModel(LM3)"
   ]
  },
  {
   "cell_type": "code",
   "execution_count": 4,
   "metadata": {},
   "outputs": [],
   "source": [
    "#model4 = kenlm.LanguageModel(LM4)\n",
    "#model5 = kenlm.LanguageModel(LM5)\n",
    "model6 = kenlm.LanguageModel(LM6)"
   ]
  },
  {
   "cell_type": "markdown",
   "metadata": {},
   "source": [
    "### Sentences scores\n",
    "\n",
    "#### model.score(self, sentence, bos = True, eos = True)\n",
    "\n",
    "Return the __log10 probability of a string__.  By default, the string is treated as a sentence.  \n",
    "          \n",
    "          return log10 p(sentence </s> | <s>)\n",
    "\n",
    "If you do not want to condition on the beginning of sentence, pass __bos = False__ . Never include $<s>$ as part of the string. \n",
    "\n",
    "Similarly, the end of sentence token $</s>$ can be omitted with __eos = False__. Since language models explicitly predict $</s>$, it can be part of the string.\n",
    "\n",
    "\n",
    "I do not use bos or eos = False, so the method calculates scores of those strings to be sentences."
   ]
  },
  {
   "cell_type": "code",
   "execution_count": 6,
   "metadata": {},
   "outputs": [
    {
     "name": "stdout",
     "output_type": "stream",
     "text": [
      "Штучний інтелект врятує світ .\n",
      "3-gram model\n",
      "-20.363344192504883\n",
      "6-gram model\n",
      "-20.321420669555664\n"
     ]
    }
   ],
   "source": [
    "sentence1 = 'Штучний інтелект врятує світ .'\n",
    "print(sentence1)\n",
    "print('{0}-gram model'.format(model3.order))\n",
    "print(model3.score(sentence1))\n",
    "#print('{0}-gram model'.format(model4.order))\n",
    "#print(model4.score(sentence1))\n",
    "#print('{0}-gram model'.format(model5.order))\n",
    "#print(model5.score(sentence1))\n",
    "print('{0}-gram model'.format(model6.order))\n",
    "print(model6.score(sentence1))"
   ]
  },
  {
   "cell_type": "code",
   "execution_count": 7,
   "metadata": {},
   "outputs": [
    {
     "name": "stdout",
     "output_type": "stream",
     "text": [
      "_#foreign_ врятує світ .\n",
      "3-gram model\n",
      "-12.704010963439941\n",
      "6-gram model\n",
      "-12.685079574584961\n"
     ]
    }
   ],
   "source": [
    "sentence2 = '_#foreign_ врятує світ .'\n",
    "print(sentence2)\n",
    "print('{0}-gram model'.format(model3.order))\n",
    "print(model3.score(sentence2))\n",
    "#print('{0}-gram model'.format(model4.order))\n",
    "#print(model4.score(sentence2))\n",
    "#print('{0}-gram model'.format(model5.order))\n",
    "#print(model5.score(sentence2))\n",
    "print('{0}-gram model'.format(model6.order))\n",
    "print(model6.score(sentence2))"
   ]
  },
  {
   "cell_type": "code",
   "execution_count": 8,
   "metadata": {},
   "outputs": [
    {
     "name": "stdout",
     "output_type": "stream",
     "text": [
      "Наука врятує світ .\n",
      "3-gram model\n",
      "-12.998435020446777\n",
      "6-gram model\n",
      "-12.990907669067383\n"
     ]
    }
   ],
   "source": [
    "sentence3 = 'Наука врятує світ .'\n",
    "print(sentence3)\n",
    "print('{0}-gram model'.format(model3.order))\n",
    "print(model3.score(sentence3))\n",
    "#print('{0}-gram model'.format(model4.order))\n",
    "#print(model4.score(sentence3))\n",
    "#print('{0}-gram model'.format(model5.order))\n",
    "#print(model5.score(sentence3))\n",
    "print('{0}-gram model'.format(model6.order))\n",
    "print(model6.score(sentence3))"
   ]
  },
  {
   "cell_type": "code",
   "execution_count": 9,
   "metadata": {},
   "outputs": [
    {
     "name": "stdout",
     "output_type": "stream",
     "text": [
      "Краса врятує світ .\n",
      "3-gram model\n",
      "-8.816818237304688\n",
      "6-gram model\n",
      "-9.31010913848877\n"
     ]
    }
   ],
   "source": [
    "sentence4 = 'Краса врятує світ .'\n",
    "print(sentence4)\n",
    "print('{0}-gram model'.format(model3.order))\n",
    "print(model3.score(sentence4))\n",
    "#print('{0}-gram model'.format(model4.order))\n",
    "#print(model4.score(sentence4))\n",
    "#print('{0}-gram model'.format(model5.order))\n",
    "#print(model5.score(sentence4))\n",
    "print('{0}-gram model'.format(model6.order))\n",
    "print(model6.score(sentence4))"
   ]
  },
  {
   "cell_type": "markdown",
   "metadata": {},
   "source": [
    "#### Check that total full score = direct score"
   ]
  },
  {
   "cell_type": "code",
   "execution_count": 10,
   "metadata": {},
   "outputs": [],
   "source": [
    "def score(model,s):\n",
    "    return sum(prob for prob, _, _ in model.full_scores(s))"
   ]
  },
  {
   "cell_type": "code",
   "execution_count": 11,
   "metadata": {},
   "outputs": [],
   "source": [
    "assert (abs(score(model6, sentence1) - model6.score(sentence1)) < 1e-3)\n",
    "assert (abs(score(model6, sentence2) - model6.score(sentence2)) < 1e-3)\n",
    "assert (abs(score(model6, sentence3) - model6.score(sentence3)) < 1e-3)\n",
    "assert (abs(score(model6, sentence4) - model6.score(sentence4)) < 1e-3)"
   ]
  },
  {
   "cell_type": "markdown",
   "metadata": {},
   "source": [
    "#### Show scores and n-gram matches"
   ]
  },
  {
   "cell_type": "code",
   "execution_count": 12,
   "metadata": {},
   "outputs": [
    {
     "name": "stdout",
     "output_type": "stream",
     "text": [
      "-4.452103614807129 2: <s> Краса\n",
      "-2.579751491546631 2: Краса врятує\n",
      "-1.146461009979248 3: Краса врятує світ\n",
      "-1.1242060661315918 3: врятує світ .\n",
      "-0.007586266845464706 4: врятує світ . </s>\n"
     ]
    }
   ],
   "source": [
    "words = ['<s>'] + sentence4.split() + ['</s>']\n",
    "for i, (prob, length, oov) in enumerate(model6.full_scores(sentence4)):\n",
    "    print('{0} {1}: {2}'.format(prob, length, ' '.join(words[i+2-length:i+2])))\n",
    "    if oov:\n",
    "        print('\\t\"{0}\" is an OOV'.format(words[i+1]))"
   ]
  },
  {
   "cell_type": "markdown",
   "metadata": {},
   "source": [
    "n-gramm які закінчуютьмя на $</s>$ завжди друга цифра нуль. Тобто нема залежності між реченнями."
   ]
  },
  {
   "cell_type": "markdown",
   "metadata": {},
   "source": [
    "#### Calculating the perplexity of the sentence"
   ]
  },
  {
   "cell_type": "code",
   "execution_count": 13,
   "metadata": {},
   "outputs": [],
   "source": [
    "def perplexity(model, sentence, bos=True, eos=True):\n",
    "    \"\"\"\n",
    "    Compute perplexity of a sentence.\n",
    "    @param sentence One full sentence to score.  Do not include <s> or </s>.\n",
    "    \"\"\"\n",
    "    words = len(str(sentence).split()) + 1 # For </s>\n",
    "    return 10.0**(-model.score(sentence, bos=bos, eos=eos) / words)"
   ]
  },
  {
   "cell_type": "code",
   "execution_count": 14,
   "metadata": {},
   "outputs": [
    {
     "name": "stdout",
     "output_type": "stream",
     "text": [
      "72.78163837647064\n"
     ]
    }
   ],
   "source": [
    "print(perplexity(model6, sentence4))"
   ]
  },
  {
   "cell_type": "code",
   "execution_count": 15,
   "metadata": {},
   "outputs": [
    {
     "name": "stdout",
     "output_type": "stream",
     "text": [
      "72.78163837647064\n"
     ]
    }
   ],
   "source": [
    "print(model6.perplexity(sentence4))"
   ]
  },
  {
   "cell_type": "markdown",
   "metadata": {},
   "source": [
    "#### Find out-of-vocabulary words from the sentence \"краса врятує світ .\""
   ]
  },
  {
   "cell_type": "code",
   "execution_count": 16,
   "metadata": {},
   "outputs": [],
   "source": [
    "for w in words:\n",
    "    if not w in model6:\n",
    "        print('\"{0}\" is an OOV'.format(w))"
   ]
  },
  {
   "cell_type": "markdown",
   "metadata": {},
   "source": [
    "### Calculating the perplexity of the model on the Ukrainian brown corpus (good and so-so)\n",
    "\n",
    "_!!! keep in mind this is the same dataset I made my estimation ARPA models on !!!_"
   ]
  },
  {
   "cell_type": "code",
   "execution_count": 17,
   "metadata": {},
   "outputs": [],
   "source": [
    "filename=os.path.join(os.path.abspath(''), \n",
    "                      'brown-uk', 'corpus',\n",
    "                      'final_all_GS_tagged_words_symbols_sentences.txt')\n",
    "\n",
    "#read sentence by sentence\n",
    "temp = open(filename,'r').read().split('\\n')"
   ]
  },
  {
   "cell_type": "markdown",
   "metadata": {},
   "source": [
    "It is only sentence-based model and it estimates score for each sentence separately. The score is equal to the  log10 probability of the sentence. Then I sum up scores for all the sentences in the corpus, divide them by the number of the words in the corpus and take 10 to the power of the resulting fraction to calculate the __perplexity__ of my model."
   ]
  },
  {
   "cell_type": "code",
   "execution_count": 18,
   "metadata": {},
   "outputs": [],
   "source": [
    "def perplexity_on_texts_by_sentences(model, temp):\n",
    "    all_score=0\n",
    "    all_words=0\n",
    "    for sentence in temp:\n",
    "        all_score+=model.score(sentence, bos = False, eos = False)\n",
    "        all_words+=len(str(sentence).split())\n",
    "    print(\"all_score: \"+str(all_score)+\"; \\nnumber of tokens in text: \"+str(all_words))\n",
    "    return 10.0**(-all_score / all_words)"
   ]
  },
  {
   "cell_type": "code",
   "execution_count": 19,
   "metadata": {},
   "outputs": [
    {
     "name": "stdout",
     "output_type": "stream",
     "text": [
      "3-gram model\n",
      "all_score: -2573061.416824341; \n",
      "number of tokens in text: 732044\n",
      "3272.6529066023068\n",
      "\n",
      "6-gram model\n",
      "all_score: -2554392.8496727943; \n",
      "number of tokens in text: 732044\n",
      "3086.0145752047547\n",
      "\n"
     ]
    }
   ],
   "source": [
    "print('{0}-gram model'.format(model3.order))\n",
    "print(str(perplexity_on_texts_by_sentences(model3,temp))+\"\\n\")\n",
    "#print('{0}-gram model'.format(model4.order))\n",
    "#print(str(perplexity_on_texts_by_sentences(model4,temp))+\"\\n\")\n",
    "#print('{0}-gram model'.format(model5.order))\n",
    "#print(str(perplexity_on_texts_by_sentences(model5,temp))+\"\\n\")\n",
    "print('{0}-gram model'.format(model6.order))\n",
    "print(str(perplexity_on_texts_by_sentences(model6,temp))+\"\\n\")"
   ]
  },
  {
   "cell_type": "markdown",
   "metadata": {},
   "source": [
    "### Perplexity including BOS and EOS tags. Copied their function but rewriten to match text"
   ]
  },
  {
   "cell_type": "code",
   "execution_count": 20,
   "metadata": {},
   "outputs": [],
   "source": [
    "def perplexity_on_texts_by_sentences_boseos(model, temp):\n",
    "    all_score=0\n",
    "    all_words=0\n",
    "    for sentence in temp:\n",
    "        all_score+=model.score(sentence)\n",
    "        all_words+=len(str(sentence).split())+1\n",
    "    print(\"all_score: \"+str(all_score)+\"; \\nnumber of tokens in text: \"+str(all_words))\n",
    "    return 10.0**(-all_score / all_words)"
   ]
  },
  {
   "cell_type": "code",
   "execution_count": 21,
   "metadata": {},
   "outputs": [
    {
     "name": "stdout",
     "output_type": "stream",
     "text": [
      "3-gram model\n",
      "all_score: -2501458.3301939964; \n",
      "number of tokens in text: 771658\n",
      "1744.4843310478998\n",
      "\n",
      "6-gram model\n",
      "all_score: -2479867.22213459; \n",
      "number of tokens in text: 771658\n",
      "1635.63698051947\n",
      "\n"
     ]
    }
   ],
   "source": [
    "print('{0}-gram model'.format(model3.order))\n",
    "print(str(perplexity_on_texts_by_sentences_boseos(model3,temp))+\"\\n\")\n",
    "#print('{0}-gram model'.format(model4.order))\n",
    "#print(str(perplexity_on_texts_by_sentences(model4,temp))+\"\\n\")\n",
    "#print('{0}-gram model'.format(model5.order))\n",
    "#print(str(perplexity_on_texts_by_sentences(model5,temp))+\"\\n\")\n",
    "print('{0}-gram model'.format(model6.order))\n",
    "print(str(perplexity_on_texts_by_sentences_boseos(model6,temp))+\"\\n\")"
   ]
  },
  {
   "cell_type": "code",
   "execution_count": null,
   "metadata": {},
   "outputs": [],
   "source": []
  }
 ],
 "metadata": {
  "kernelspec": {
   "display_name": "Python 3",
   "language": "python",
   "name": "python3"
  },
  "language_info": {
   "codemirror_mode": {
    "name": "ipython",
    "version": 3
   },
   "file_extension": ".py",
   "mimetype": "text/x-python",
   "name": "python",
   "nbconvert_exporter": "python",
   "pygments_lexer": "ipython3",
   "version": "3.6.8"
  }
 },
 "nbformat": 4,
 "nbformat_minor": 2
}
