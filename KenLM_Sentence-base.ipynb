{
 "cells": [
  {
   "cell_type": "markdown",
   "metadata": {},
   "source": [
    "# KenLM Sentence-base\n",
    "\n",
    "#### based on:\n",
    "\n",
    "https://kheafield.com/papers/avenue/kenlm.pdf \n",
    "\n",
    "https://kheafield.com/papers/edinburgh/estimate_paper.pdf\n",
    "\n",
    "#### implementation of the estimation part:\n",
    "\n",
    "https://kheafield.com/code/kenlm/\n",
    "\n",
    "Language models are estimated from text using __[modified](http://www.ee.columbia.edu/~stanchen/papers/h015a-techreport.pdf)__ [Kneser-Ney smoothing](https://ieeexplore.ieee.org/document/479394) without pruning. It is done on disk, enabling one to build much larger models. Kneser-Ney smothng consistently outperforms all other n-grams models with smothing evaluated in this [techreport](http://www.ee.columbia.edu/~stanchen/papers/h015a-techreport.pdf) by Chen and Goodman.\n",
    "\n",
    "In this notebook I am splitting and tokenizing __[Ukrainian Brown Corpus](https://github.com/brown-uk/corpu)__ (good and so-so datasets) into sentences including symbols. Then I use KenLM scripts to estimate ARPA n-gram sentense-based models. KenLM script __lmplz__ by default uses $<s>$ and $</s>$ tags at the beginning and end of each sentence. \n",
    "\n",
    "It is only sentence-based model and it estimates score for each sentence separately. The score is equal to the  log10 probability of the sentence. Then I sum up scores for all the sentences in the corpus, divide them by the number of the words in the corpus and take 10 to the power of the resulting fraction to calculate the __perplexity__ of my model.\n",
    "\n",
    "## Installing KenLM"
   ]
  },
  {
   "cell_type": "code",
   "execution_count": 1,
   "metadata": {},
   "outputs": [],
   "source": [
    "import os\n",
    "import kenlm"
   ]
  },
  {
   "cell_type": "markdown",
   "metadata": {},
   "source": [
    "    ---# sudo apt-get install build-essential libboost-all-dev cmake zlib1g-dev libbz2-dev liblzma-dev \n",
    "    \n",
    "    ---# wget -O - https://kheafield.com/code/kenlm.tar.gz |tar xz\n",
    "         mkdir -p build && cd build\n",
    "         cmake ..\n",
    "         make -j 4\n",
    "         \n",
    "## Tokenize text\n",
    "         \n",
    "Here the __[Ukrainian Brown Corpus](https://github.com/brown-uk/corpu)__ (good and so-so datasets) is splitted into sentences including symbols.\n",
    "         \n",
    "#### [TokenizeText.groovy](https://github.com/brown-uk/nlp_uk/blob/master/src/main/groovy/org/nlp_uk/tools/README.md)\n",
    "\n",
    "\n",
    "Аналізує текст і записує результат у виходовий файл:\n",
    "\n",
    "        розбиває на речення (-s)\n",
    "        розбиває на токени (-w) (результати включають пунктуацію тому всі токени розділяються вертикальними рисками)\n",
    "        розбиває на слова (-u)\n"
   ]
  },
  {
   "cell_type": "code",
   "execution_count": 2,
   "metadata": {},
   "outputs": [
    {
     "name": "stdout",
     "output_type": "stream",
     "text": [
      "WARNING: An illegal reflective access operation has occurred\n",
      "WARNING: Illegal reflective access by org.codehaus.groovy.vmplugin.v7.Java7$1 (file:/snap/groovy/17/lib/groovy-2.5.8.jar) to constructor java.lang.invoke.MethodHandles$Lookup(java.lang.Class,int)\n",
      "WARNING: Please consider reporting this to the maintainers of org.codehaus.groovy.vmplugin.v7.Java7$1\n",
      "WARNING: Use --illegal-access=warn to enable warnings of further illegal reflective access operations\n",
      "WARNING: All illegal access operations will be denied in a future release\n",
      "writing into brown-uk/corpus/all_GS_words_symbols_sentences.txt\n"
     ]
    }
   ],
   "source": [
    "!groovy nlp_uk/nlp_uk/src/main/groovy/org/nlp_uk/tools/TokenizeText.groovy -s -w -i brown-uk/corpus/all_GS.txt -o brown-uk/corpus/all_GS_words_symbols_sentences.txt"
   ]
  },
  {
   "cell_type": "markdown",
   "metadata": {},
   "source": [
    "_!!! Should I lowercase? !!!_"
   ]
  },
  {
   "cell_type": "code",
   "execution_count": 3,
   "metadata": {},
   "outputs": [],
   "source": [
    "import fileinput\n",
    "filename=os.path.join(os.path.abspath(''), 'brown-uk','corpus','all_GS_words_symbols_sentences.txt')\n",
    "for line in fileinput.FileInput(filename, inplace=1):\n",
    "        #line='<s>'+line\n",
    "        line=line.replace(\"|\",\" \").lower()\n",
    "        line=line.replace(\"\\n\",\"\")\n",
    "        line=line.replace(r\"\\n\",\"\")\n",
    "        line=line.replace(\"_foreign_\",\" _foreign_ \")\n",
    "        #line=line.replace(\"BEGIN_TEXT\",\"\")\n",
    "        #line=line.replace(\"END_TEXT\",\"\")\n",
    "        #line=line.replace(\"\\n\",\"</s>\")\n",
    "        #line=line.replace(r\"<s>\\n\",\"BEGIN <s>\")\n",
    "        #line=line.replace(\"<s></s>\",\"\")\n",
    "        #line=line.replace(r\"\\n </s>\",\"</s> END\")\n",
    "        #line=line.replace(\"<s>\",\"\")\n",
    "        print (line)\n",
    "for line in fileinput.FileInput(filename, inplace=1):\n",
    "        line=line.replace(\"\\n\",\"\")\n",
    "        print (line)"
   ]
  },
  {
   "cell_type": "markdown",
   "metadata": {},
   "source": [
    "\n",
    "Example result file: (+lowercase)\n",
    "\n",
    "    У   2013   році ,   до   100-річчя   виходу   першого   числа   журналу   _FOREIGN_ ,   на   будинку   встановили   меморіальну   дошку .   \n",
    "    Тоді   ж   таки   в   будинку   відбувся   перший   з'їзд   есперантистів ,   на   якому   було   50   есперантистів   з   усієї   України   і   троє   з-за   кордону .   \n",
    "    Відтоді   щороку   вони   там   організовують   конференції ,   починаючи   з   2013-го .   \n",
    "    Щороку   там   вручають   премію   тим ,   хто   пропаґує   український   есперантський   рух   та   український   погляд   на   важливі   події .  \n",
    "    _FOREIGN_  Більшість   дописів   на   сторінці   Сергія   Шматкова   у   соціальній   мережі   _FOREIGN_   —   мовою   есперанто .  \n",
    "    « У   мене   у   _FOREIGN_   понад   дві   тисячі   друзів   з   усього   світу ,   з   якими   я   спілкуюсь   мовою   есперанто » ,   —   розповідає   пан   Сергій .  \n",
    "    Цю   незвичну   для   багатьох   мову   Сергій   Шматков   вивчив   ще   у   1980-х .   \n",
    "    Народився   і   прожив   чоловік   усе   життя   в   Донецькій   області ,   а   після   окупації   перебрався   до   Львова .  \n",
    "\n",
    "\n",
    "## Estimating Large Language Models with KenLM\n",
    "\n",
    "Tokenized and splitted into sentences __[Ukrainian Brown Corpus](https://github.com/brown-uk/corpu)__ (good and so-so datasets) is provided on stdin and the __ARPA__ is written to stdout.\n",
    "\n",
    "#### kenlm/build/bin/lmplz -o -S -T    \n",
    "        -o\n",
    "            Required. Order of the language model to estimate.\n",
    "        -S\n",
    "            Recommended. Memory to use. This is a number followed by single-character suffix: % for percentage of physical memory (on platforms where this is measured), b for bytes, K for kilobytes, M for megabytes, and so on for G and T. If no suffix is given, kilobytes are assumed for compatability with GNU sort. The sort program is not used; the command line is simply designed to be compatible.\n",
    "        -T\n",
    "            Recommended. Temporary file location.\n",
    "\n",
    "Here 3-gram, 4-gram, 5-gram and 6-gram models are estimated by kenlm library and saved into the propriate ARPA files.\n",
    "            "
   ]
  },
  {
   "cell_type": "code",
   "execution_count": 4,
   "metadata": {},
   "outputs": [
    {
     "name": "stdout",
     "output_type": "stream",
     "text": [
      "=== 1/5 Counting and sorting n-grams ===\n",
      "Reading /home/ana/Downloads/master diploma/code/brown-uk/corpus/all_GS_words_symbols_sentences.txt\n",
      "----5---10---15---20---25---30---35---40---45---50---55---60---65---70---75---80---85---90---95--100\n",
      "****************************************************************************************************\n",
      "Unigram tokens 731851 types 96679\n",
      "=== 2/5 Calculating and sorting adjusted counts ===\n",
      "Chain sizes: 1:1160148 2:580715584 3:1088841728\n",
      "Statistics:\n",
      "1 96679 D1=0.648681 D2=1.09686 D3+=1.53533\n",
      "2 446361 D1=0.848075 D2=1.2204 D3+=1.47973\n",
      "3 637150 D1=0.922466 D2=1.34991 D3+=1.45028\n",
      "Memory estimate for binary LM:\n",
      "type       kB\n",
      "probing 24116 assuming -p 1.5\n",
      "probing 27109 assuming -r models -p 1.5\n",
      "trie    11448 without quantization\n",
      "trie     7101 assuming -q 8 -b 8 quantization \n",
      "trie    10763 assuming -a 22 array pointer compression\n",
      "trie     6416 assuming -a 22 -q 8 -b 8 array pointer compression and quantization\n",
      "=== 3/5 Calculating and sorting initial probabilities ===\n",
      "Chain sizes: 1:1160148 2:7141776 3:12743000\n",
      "----5---10---15---20---25---30---35---40---45---50---55---60---65---70---75---80---85---90---95--100\n",
      "####################################################################################################\n",
      "=== 4/5 Calculating and writing order-interpolated probabilities ===\n",
      "Chain sizes: 1:1160148 2:7141776 3:12743000\n",
      "----5---10---15---20---25---30---35---40---45---50---55---60---65---70---75---80---85---90---95--100\n",
      "####################################################################################################\n",
      "=== 5/5 Writing ARPA model ===\n",
      "----5---10---15---20---25---30---35---40---45---50---55---60---65---70---75---80---85---90---95--100\n",
      "****************************************************************************************************\n",
      "Name:lmplz\tVmPeak:1806720 kB\tVmRSS:28632 kB\tRSSMax:413156 kB\tuser:1.21344\tsys:0.320608\tCPU:1.5341\treal:1.34459\n",
      "=== 1/5 Counting and sorting n-grams ===\n",
      "Reading /home/ana/Downloads/master diploma/code/brown-uk/corpus/all_GS_words_symbols_sentences.txt\n",
      "----5---10---15---20---25---30---35---40---45---50---55---60---65---70---75---80---85---90---95--100\n",
      "****************************************************************************************************\n",
      "Unigram tokens 731851 types 96679\n",
      "=== 2/5 Calculating and sorting adjusted counts ===\n",
      "Chain sizes: 1:1160148 2:284179936 3:532837408 4:852539840\n",
      "Statistics:\n",
      "1 96679 D1=0.648681 D2=1.09686 D3+=1.53533\n",
      "2 446361 D1=0.848075 D2=1.2204 D3+=1.47973\n",
      "3 637150 D1=0.940985 D2=1.30674 D3+=1.43685\n",
      "4 668826 D1=0.964923 D2=1.58371 D3+=1.62235\n",
      "Memory estimate for binary LM:\n",
      "type       kB\n",
      "probing 39606 assuming -p 1.5\n",
      "probing 46332 assuming -r models -p 1.5\n",
      "trie    19411 without quantization\n",
      "trie    11322 assuming -q 8 -b 8 quantization \n",
      "trie    17719 assuming -a 22 array pointer compression\n",
      "trie     9629 assuming -a 22 -q 8 -b 8 array pointer compression and quantization\n",
      "=== 3/5 Calculating and sorting initial probabilities ===\n",
      "Chain sizes: 1:1160148 2:7141776 3:12743000 4:16051824\n",
      "----5---10---15---20---25---30---35---40---45---50---55---60---65---70---75---80---85---90---95--100\n",
      "####################################################################################################\n",
      "=== 4/5 Calculating and writing order-interpolated probabilities ===\n",
      "Chain sizes: 1:1160148 2:7141776 3:12743000 4:16051824\n",
      "----5---10---15---20---25---30---35---40---45---50---55---60---65---70---75---80---85---90---95--100\n",
      "####################################################################################################\n",
      "=== 5/5 Writing ARPA model ===\n",
      "----5---10---15---20---25---30---35---40---45---50---55---60---65---70---75---80---85---90---95--100\n",
      "****************************************************************************************************\n",
      "Name:lmplz\tVmPeak:1823112 kB\tVmRSS:9496 kB\tRSSMax:367656 kB\tuser:1.82741\tsys:0.432807\tCPU:2.26026\treal:1.77204\n",
      "=== 1/5 Counting and sorting n-grams ===\n",
      "Reading /home/ana/Downloads/master diploma/code/brown-uk/corpus/all_GS_words_symbols_sentences.txt\n",
      "----5---10---15---20---25---30---35---40---45---50---55---60---65---70---75---80---85---90---95--100\n",
      "****************************************************************************************************\n",
      "Unigram tokens 731851 types 96679\n",
      "=== 2/5 Calculating and sorting adjusted counts ===\n",
      "Chain sizes: 1:1160148 2:162883632 3:305406816 4:488650880 5:712615936\n",
      "Statistics:\n",
      "1 96679 D1=0.648681 D2=1.09686 D3+=1.53533\n",
      "2 446361 D1=0.848075 D2=1.2204 D3+=1.47973\n",
      "3 637150 D1=0.940985 D2=1.30674 D3+=1.43685\n",
      "4 668826 D1=0.980061 D2=1.49377 D3+=1.61299\n",
      "5 643728 D1=0.980097 D2=1.76203 D3+=1.66572\n",
      "Memory estimate for binary LM:\n",
      "type    MB\n",
      "probing 53 assuming -p 1.5\n",
      "probing 63 assuming -r models -p 1.5\n",
      "trie    26 without quantization\n",
      "trie    15 assuming -q 8 -b 8 quantization \n",
      "trie    24 assuming -a 22 array pointer compression\n",
      "trie    12 assuming -a 22 -q 8 -b 8 array pointer compression and quantization\n",
      "=== 3/5 Calculating and sorting initial probabilities ===\n",
      "Chain sizes: 1:1160148 2:7141776 3:12743000 4:16051824 5:18024384\n",
      "----5---10---15---20---25---30---35---40---45---50---55---60---65---70---75---80---85---90---95--100\n",
      "####################################################################################################\n",
      "=== 4/5 Calculating and writing order-interpolated probabilities ===\n",
      "Chain sizes: 1:1160148 2:7141776 3:12743000 4:16051824 5:18024384\n",
      "----5---10---15---20---25---30---35---40---45---50---55---60---65---70---75---80---85---90---95--100\n",
      "####################################################################################################\n",
      "=== 5/5 Writing ARPA model ===\n",
      "----5---10---15---20---25---30---35---40---45---50---55---60---65---70---75---80---85---90---95--100\n",
      "****************************************************************************************************\n",
      "Name:lmplz\tVmPeak:1830320 kB\tVmRSS:9684 kB\tRSSMax:332716 kB\tuser:2.42056\tsys:0.641692\tCPU:3.06229\treal:2.25729\n",
      "=== 1/5 Counting and sorting n-grams ===\n",
      "Reading /home/ana/Downloads/master diploma/code/brown-uk/corpus/all_GS_words_symbols_sentences.txt\n",
      "----5---10---15---20---25---30---35---40---45---50---55---60---65---70---75---80---85---90---95--100\n",
      "****************************************************************************************************\n",
      "Unigram tokens 731851 types 96679\n",
      "=== 2/5 Calculating and sorting adjusted counts ===\n",
      "Chain sizes: 1:1160148 2:102741984 3:192641216 4:308225952 5:449496192 6:616451904\n",
      "Statistics:\n",
      "1 96679 D1=0.648681 D2=1.09686 D3+=1.53533\n",
      "2 446361 D1=0.848075 D2=1.2204 D3+=1.47973\n",
      "3 637150 D1=0.940985 D2=1.30674 D3+=1.43685\n",
      "4 668826 D1=0.980061 D2=1.49377 D3+=1.61299\n",
      "5 643728 D1=0.993255 D2=1.65781 D3+=1.6015\n",
      "6 608332 D1=0.984881 D2=1.84369 D3+=1.69755\n",
      "Memory estimate for binary LM:\n",
      "type    MB\n",
      "probing 67 assuming -p 1.5\n",
      "probing 81 assuming -r models -p 1.5\n",
      "trie    34 without quantization\n",
      "trie    19 assuming -q 8 -b 8 quantization \n",
      "trie    30 assuming -a 22 array pointer compression\n",
      "trie    15 assuming -a 22 -q 8 -b 8 array pointer compression and quantization\n",
      "=== 3/5 Calculating and sorting initial probabilities ===\n",
      "Chain sizes: 1:1160148 2:7141776 3:12743000 4:16051824 5:18024384 6:19466624\n",
      "----5---10---15---20---25---30---35---40---45---50---55---60---65---70---75---80---85---90---95--100\n",
      "####################################################################################################\n",
      "=== 4/5 Calculating and writing order-interpolated probabilities ===\n",
      "Chain sizes: 1:1160148 2:7141776 3:12743000 4:16051824 5:18024384 6:19466624\n",
      "----5---10---15---20---25---30---35---40---45---50---55---60---65---70---75---80---85---90---95--100\n",
      "####################################################################################################\n",
      "=== 5/5 Writing ARPA model ===\n",
      "----5---10---15---20---25---30---35---40---45---50---55---60---65---70---75---80---85---90---95--100\n",
      "****************************************************************************************************\n",
      "Name:lmplz\tVmPeak:1846712 kB\tVmRSS:9648 kB\tRSSMax:305980 kB\tuser:3.02537\tsys:0.821458\tCPU:3.84687\treal:2.81325\n"
     ]
    }
   ],
   "source": [
    "!kenlm/build/bin/lmplz -o 3 -S 10% <brown-uk/corpus/all_GS_words_symbols_sentences.txt> brown-uk/corpus/kenlm/all_GS_symbols_sentences_based_3.arpa\n",
    "!kenlm/build/bin/lmplz -o 4 -S 10% <brown-uk/corpus/all_GS_words_symbols_sentences.txt> brown-uk/corpus/kenlm/all_GS_symbols_sentences_based_4.arpa\n",
    "!kenlm/build/bin/lmplz -o 5 -S 10% <brown-uk/corpus/all_GS_words_symbols_sentences.txt> brown-uk/corpus/kenlm/all_GS_symbols_sentences_based_5.arpa\n",
    "!kenlm/build/bin/lmplz -o 6 -S 10% <brown-uk/corpus/all_GS_words_symbols_sentences.txt> brown-uk/corpus/kenlm/all_GS_symbols_sentences_based_6.arpa"
   ]
  },
  {
   "cell_type": "code",
   "execution_count": 5,
   "metadata": {},
   "outputs": [],
   "source": [
    "LM3 = os.path.join(os.path.abspath(''), 'brown-uk', 'corpus', 'kenlm', 'all_GS_symbols_sentences_based_3.arpa')\n",
    "LM4 = os.path.join(os.path.abspath(''), 'brown-uk', 'corpus', 'kenlm', 'all_GS_symbols_sentences_based_4.arpa')\n",
    "LM5 = os.path.join(os.path.abspath(''), 'brown-uk', 'corpus', 'kenlm', 'all_GS_symbols_sentences_based_5.arpa')\n",
    "LM6 = os.path.join(os.path.abspath(''), 'brown-uk', 'corpus', 'kenlm', 'all_GS_symbols_sentences_based_6.arpa')"
   ]
  },
  {
   "cell_type": "code",
   "execution_count": 6,
   "metadata": {},
   "outputs": [],
   "source": [
    "model3 = kenlm.LanguageModel(LM3)\n",
    "model4 = kenlm.LanguageModel(LM4)\n",
    "model5 = kenlm.LanguageModel(LM5)\n",
    "model6 = kenlm.LanguageModel(LM6)"
   ]
  },
  {
   "cell_type": "markdown",
   "metadata": {},
   "source": [
    "### Sentences scores\n",
    "\n",
    "#### model.score(self, sentence, bos = True, eos = True)\n",
    "\n",
    "Return the __log10 probability of a string__.  By default, the string is treated as a sentence.  \n",
    "          \n",
    "          return log10 p(sentence </s> | <s>)\n",
    "\n",
    "If you do not want to condition on the beginning of sentence, pass __bos = False__ . Never include $<s>$ as part of the string. \n",
    "\n",
    "Similarly, the end of sentence token $</s>$ can be omitted with __eos = False__. Since language models explicitly predict $</s>$, it can be part of the string.\n",
    "\n",
    "\n",
    "I do not use bos or eos = False, so the method calculates scores of those strings to be sentences."
   ]
  },
  {
   "cell_type": "code",
   "execution_count": 7,
   "metadata": {},
   "outputs": [
    {
     "name": "stdout",
     "output_type": "stream",
     "text": [
      "штучний інтелект врятує світ .\n",
      "3-gram model\n",
      "-18.96114730834961\n",
      "4-gram model\n",
      "-18.95266342163086\n",
      "5-gram model\n",
      "-18.95266342163086\n",
      "6-gram model\n",
      "-18.95266342163086\n"
     ]
    }
   ],
   "source": [
    "sentence1 = 'штучний інтелект врятує світ .'\n",
    "print(sentence1)\n",
    "print('{0}-gram model'.format(model3.order))\n",
    "print(model3.score(sentence1))\n",
    "print('{0}-gram model'.format(model4.order))\n",
    "print(model4.score(sentence1))\n",
    "print('{0}-gram model'.format(model5.order))\n",
    "print(model5.score(sentence1))\n",
    "print('{0}-gram model'.format(model6.order))\n",
    "print(model6.score(sentence1))"
   ]
  },
  {
   "cell_type": "code",
   "execution_count": 8,
   "metadata": {},
   "outputs": [
    {
     "name": "stdout",
     "output_type": "stream",
     "text": [
      "_foreign_ врятує світ .\n",
      "3-gram model\n",
      "-11.317231178283691\n",
      "4-gram model\n",
      "-11.304431915283203\n",
      "5-gram model\n",
      "-11.304431915283203\n",
      "6-gram model\n",
      "-11.304431915283203\n"
     ]
    }
   ],
   "source": [
    "sentence2 = '_foreign_ врятує світ .'\n",
    "print(sentence2)\n",
    "print('{0}-gram model'.format(model3.order))\n",
    "print(model3.score(sentence2))\n",
    "print('{0}-gram model'.format(model4.order))\n",
    "print(model4.score(sentence2))\n",
    "print('{0}-gram model'.format(model5.order))\n",
    "print(model5.score(sentence2))\n",
    "print('{0}-gram model'.format(model6.order))\n",
    "print(model6.score(sentence2))"
   ]
  },
  {
   "cell_type": "code",
   "execution_count": 9,
   "metadata": {},
   "outputs": [
    {
     "name": "stdout",
     "output_type": "stream",
     "text": [
      "наука врятує світ .\n",
      "3-gram model\n",
      "-12.316014289855957\n",
      "4-gram model\n",
      "-12.298898696899414\n",
      "5-gram model\n",
      "-12.298898696899414\n",
      "6-gram model\n",
      "-12.298898696899414\n"
     ]
    }
   ],
   "source": [
    "sentence3 = 'наука врятує світ .'\n",
    "print(sentence3)\n",
    "print('{0}-gram model'.format(model3.order))\n",
    "print(model3.score(sentence3))\n",
    "print('{0}-gram model'.format(model4.order))\n",
    "print(model4.score(sentence3))\n",
    "print('{0}-gram model'.format(model5.order))\n",
    "print(model5.score(sentence3))\n",
    "print('{0}-gram model'.format(model6.order))\n",
    "print(model6.score(sentence3))"
   ]
  },
  {
   "cell_type": "code",
   "execution_count": 10,
   "metadata": {},
   "outputs": [
    {
     "name": "stdout",
     "output_type": "stream",
     "text": [
      "краса врятує світ .\n",
      "3-gram model\n",
      "-8.869534492492676\n",
      "4-gram model\n",
      "-8.934062957763672\n",
      "5-gram model\n",
      "-8.927302360534668\n",
      "6-gram model\n",
      "-8.927302360534668\n"
     ]
    }
   ],
   "source": [
    "sentence4 = 'краса врятує світ .'\n",
    "print(sentence4)\n",
    "print('{0}-gram model'.format(model3.order))\n",
    "print(model3.score(sentence4))\n",
    "print('{0}-gram model'.format(model4.order))\n",
    "print(model4.score(sentence4))\n",
    "print('{0}-gram model'.format(model5.order))\n",
    "print(model5.score(sentence4))\n",
    "print('{0}-gram model'.format(model6.order))\n",
    "print(model6.score(sentence4))"
   ]
  },
  {
   "cell_type": "markdown",
   "metadata": {},
   "source": [
    "#### Check that total full score = direct score"
   ]
  },
  {
   "cell_type": "code",
   "execution_count": 11,
   "metadata": {},
   "outputs": [],
   "source": [
    "def score(model,s):\n",
    "    return sum(prob for prob, _, _ in model.full_scores(s))"
   ]
  },
  {
   "cell_type": "code",
   "execution_count": 12,
   "metadata": {},
   "outputs": [],
   "source": [
    "assert (abs(score(model6, sentence1) - model6.score(sentence1)) < 1e-3)\n",
    "assert (abs(score(model6, sentence2) - model6.score(sentence2)) < 1e-3)\n",
    "assert (abs(score(model6, sentence3) - model6.score(sentence3)) < 1e-3)\n",
    "assert (abs(score(model6, sentence4) - model6.score(sentence4)) < 1e-3)"
   ]
  },
  {
   "cell_type": "markdown",
   "metadata": {},
   "source": [
    "#### Show scores and n-gram matches"
   ]
  },
  {
   "cell_type": "code",
   "execution_count": 13,
   "metadata": {},
   "outputs": [
    {
     "name": "stdout",
     "output_type": "stream",
     "text": [
      "-5.063677787780762 2: <s> краса\n",
      "-1.923867106437683 2: краса врятує\n",
      "-0.9712043404579163 3: краса врятує світ\n",
      "-0.9680412411689758 2: світ .\n",
      "-0.0005118859116919339 3: світ . </s>\n"
     ]
    }
   ],
   "source": [
    "words = ['<s>'] + sentence4.split() + ['</s>']\n",
    "for i, (prob, length, oov) in enumerate(model6.full_scores(sentence4)):\n",
    "    print('{0} {1}: {2}'.format(prob, length, ' '.join(words[i+2-length:i+2])))\n",
    "    if oov:\n",
    "        print('\\t\"{0}\" is an OOV'.format(words[i+1]))"
   ]
  },
  {
   "cell_type": "markdown",
   "metadata": {},
   "source": [
    "__________________________________________\n",
    "\n",
    "    -4.6759634\tкраса\t-0.26173612\n",
    "    -1.8974496\tкраса врятує\t-0.026417483\n",
    "    -0.97120434\tкраса врятує світ\t-0.00874679\n",
    "    -4.032551\t</s>\t0\n",
    "\n",
    "\n",
    "\n",
    "Чому n-gramm які закінчуютьмя на $</s>$ завжди друга цифра нуль. Виходить нема залежності між реченнями. Як на мене це не ок."
   ]
  },
  {
   "cell_type": "markdown",
   "metadata": {},
   "source": [
    "#### Calculating the perplexity of the sentence"
   ]
  },
  {
   "cell_type": "code",
   "execution_count": 14,
   "metadata": {},
   "outputs": [],
   "source": [
    "def perplexity(model, sentence, bos=True, eos=True):\n",
    "    \"\"\"\n",
    "    Compute perplexity of a sentence.\n",
    "    @param sentence One full sentence to score.  Do not include <s> or </s>.\n",
    "    \"\"\"\n",
    "    words = len(str(sentence).split()) + 1 # For </s>\n",
    "    return 10.0**(-model.score(sentence, bos=bos, eos=eos) / words)"
   ]
  },
  {
   "cell_type": "code",
   "execution_count": 15,
   "metadata": {},
   "outputs": [
    {
     "name": "stdout",
     "output_type": "stream",
     "text": [
      "61.018351744835584\n"
     ]
    }
   ],
   "source": [
    "print(perplexity(model6, sentence4))"
   ]
  },
  {
   "cell_type": "code",
   "execution_count": 16,
   "metadata": {},
   "outputs": [
    {
     "name": "stdout",
     "output_type": "stream",
     "text": [
      "61.018351744835584\n"
     ]
    }
   ],
   "source": [
    "print(model6.perplexity(sentence4))"
   ]
  },
  {
   "cell_type": "markdown",
   "metadata": {},
   "source": [
    "#### Find out-of-vocabulary words"
   ]
  },
  {
   "cell_type": "code",
   "execution_count": 17,
   "metadata": {},
   "outputs": [],
   "source": [
    "for w in words:\n",
    "    if not w in model6:\n",
    "        print('\"{0}\" is an OOV'.format(w))"
   ]
  },
  {
   "cell_type": "markdown",
   "metadata": {},
   "source": [
    "#### Stateful query ???"
   ]
  },
  {
   "cell_type": "code",
   "execution_count": 18,
   "metadata": {},
   "outputs": [],
   "source": [
    "state = kenlm.State()\n",
    "state2 = kenlm.State()"
   ]
  },
  {
   "cell_type": "code",
   "execution_count": 19,
   "metadata": {},
   "outputs": [],
   "source": [
    "#Use <s> as context.  If you don't want <s>, use model.NullContextWrite(state).\n",
    "model6.BeginSentenceWrite(state)\n",
    "accum = 0.0\n",
    "accum += model6.BaseScore(state, \"a\", state2)\n",
    "accum += model6.BaseScore(state2, \"sentence\", state)\n",
    "#score defaults to bos = True and eos = True.  Here we'll check without the end\n",
    "#of sentence marker.  \n",
    "assert (abs(accum - model6.score(\"a sentence\", eos = False)) < 1e-3)\n",
    "accum += model6.BaseScore(state, \"</s>\", state2)\n",
    "assert (abs(accum - model6.score(\"a sentence\")) < 1e-3)"
   ]
  },
  {
   "cell_type": "markdown",
   "metadata": {},
   "source": [
    "### Calculating the perplexity of the model on the Ukrainian brown corpus (good and so-so)\n",
    "\n",
    "_!!! keep in mind this is the same dataset I made my estimation ARPA models on !!!_"
   ]
  },
  {
   "cell_type": "code",
   "execution_count": 20,
   "metadata": {},
   "outputs": [],
   "source": [
    "filename=os.path.join(os.path.abspath(''), \n",
    "                      'brown-uk', 'corpus',\n",
    "                      'all_GS_words_symbols_sentences.txt')\n",
    "\n",
    "#read sentence by sentence\n",
    "temp = open(filename,'r').read().split('\\n')"
   ]
  },
  {
   "cell_type": "markdown",
   "metadata": {},
   "source": [
    "It is only sentence-based model and it estimates score for each sentence separately. The score is equal to the  log10 probability of the sentence. Then I sum up scores for all the sentences in the corpus, divide them by the number of the words in the corpus and take 10 to the power of the resulting fraction to calculate the __perplexity__ of my model."
   ]
  },
  {
   "cell_type": "code",
   "execution_count": 21,
   "metadata": {},
   "outputs": [],
   "source": [
    "def perplexity_on_texts_by_sentences(model, temp):\n",
    "    all_score=0\n",
    "    all_words=0\n",
    "    for sentence in temp:\n",
    "        all_score+=model.score(sentence)\n",
    "        all_words+=len(str(sentence).split())\n",
    "    print(\"all_score: \"+str(all_score)+\"; all_words: \"+str(all_words))\n",
    "    return 10.0**(-all_score / all_words)"
   ]
  },
  {
   "cell_type": "code",
   "execution_count": 22,
   "metadata": {},
   "outputs": [
    {
     "name": "stdout",
     "output_type": "stream",
     "text": [
      "3-gram model\n",
      "all_score: -990255.045642376; all_words: 731806\n",
      "22.55101352223275\n",
      "\n",
      "4-gram model\n",
      "all_score: -853286.1631882191; all_words: 731806\n",
      "14.655495341576762\n",
      "\n",
      "5-gram model\n",
      "all_score: -828965.7315032482; all_words: 731806\n",
      "13.575850929482105\n",
      "\n",
      "6-gram model\n",
      "all_score: -824877.1562740803; all_words: 731806\n",
      "13.402323438191125\n",
      "\n"
     ]
    }
   ],
   "source": [
    "print('{0}-gram model'.format(model3.order))\n",
    "print(str(perplexity_on_texts_by_sentences(model3,temp))+\"\\n\")\n",
    "print('{0}-gram model'.format(model4.order))\n",
    "print(str(perplexity_on_texts_by_sentences(model4,temp))+\"\\n\")\n",
    "print('{0}-gram model'.format(model5.order))\n",
    "print(str(perplexity_on_texts_by_sentences(model5,temp))+\"\\n\")\n",
    "print('{0}-gram model'.format(model6.order))\n",
    "print(str(perplexity_on_texts_by_sentences(model6,temp))+\"\\n\")"
   ]
  },
  {
   "cell_type": "code",
   "execution_count": null,
   "metadata": {},
   "outputs": [],
   "source": []
  }
 ],
 "metadata": {
  "kernelspec": {
   "display_name": "Python 3",
   "language": "python",
   "name": "python3"
  },
  "language_info": {
   "codemirror_mode": {
    "name": "ipython",
    "version": 3
   },
   "file_extension": ".py",
   "mimetype": "text/x-python",
   "name": "python",
   "nbconvert_exporter": "python",
   "pygments_lexer": "ipython3",
   "version": "3.6.8"
  }
 },
 "nbformat": 4,
 "nbformat_minor": 2
}
